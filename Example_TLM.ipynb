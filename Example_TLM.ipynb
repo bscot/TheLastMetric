{
  "nbformat": 4,
  "nbformat_minor": 0,
  "metadata": {
    "colab": {
      "provenance": [],
      "authorship_tag": "ABX9TyPHod0OLopiCHoDWEY882D8",
      "include_colab_link": true
    },
    "kernelspec": {
      "name": "python3",
      "display_name": "Python 3"
    },
    "language_info": {
      "name": "python"
    },
    "accelerator": "GPU",
    "gpuClass": "standard"
  },
  "cells": [
    {
      "cell_type": "markdown",
      "metadata": {
        "id": "view-in-github",
        "colab_type": "text"
      },
      "source": [
        "<a href=\"https://colab.research.google.com/github/bscot/TheLastMetric/blob/master/Example_TLM.ipynb\" target=\"_parent\"><img src=\"https://colab.research.google.com/assets/colab-badge.svg\" alt=\"Open In Colab\"/></a>"
      ]
    },
    {
      "cell_type": "code",
      "execution_count": 1,
      "metadata": {
        "colab": {
          "base_uri": "https://localhost:8080/"
        },
        "id": "jGuNECrstsTE",
        "outputId": "b02ff684-9826-4404-ca90-0255b901d08d"
      },
      "outputs": [
        {
          "output_type": "stream",
          "name": "stdout",
          "text": [
            "Looking in indexes: https://pypi.org/simple, https://us-python.pkg.dev/colab-wheels/public/simple/\n",
            "Looking in links: https://storage.googleapis.com/jax-releases/jax_cuda_releases.html\n",
            "Requirement already satisfied: jax[cuda] in /usr/local/lib/python3.9/dist-packages (0.4.6)\n",
            "Requirement already satisfied: scipy>=1.5 in /usr/local/lib/python3.9/dist-packages (from jax[cuda]) (1.10.1)\n",
            "Requirement already satisfied: opt-einsum in /usr/local/lib/python3.9/dist-packages (from jax[cuda]) (3.3.0)\n",
            "Requirement already satisfied: numpy>=1.20 in /usr/local/lib/python3.9/dist-packages (from jax[cuda]) (1.22.4)\n",
            "Requirement already satisfied: jaxlib==0.4.6+cuda11.cudnn86 in /usr/local/lib/python3.9/dist-packages (from jax[cuda]) (0.4.6+cuda11.cudnn86)\n",
            "Looking in indexes: https://pypi.org/simple, https://us-python.pkg.dev/colab-wheels/public/simple/\n",
            "Requirement already satisfied: astropy in /usr/local/lib/python3.9/dist-packages (5.2.1)\n",
            "Collecting pzflow\n",
            "  Downloading pzflow-3.0.3-py3-none-any.whl (8.7 MB)\n",
            "\u001b[2K     \u001b[90m━━━━━━━━━━━━━━━━━━━━━━━━━━━━━━━━━━━━━━━━\u001b[0m \u001b[32m8.7/8.7 MB\u001b[0m \u001b[31m4.3 MB/s\u001b[0m eta \u001b[36m0:00:00\u001b[0m\n",
            "\u001b[?25hCollecting corner\n",
            "  Downloading corner-2.2.1-py3-none-any.whl (15 kB)\n",
            "Requirement already satisfied: PyYAML>=3.13 in /usr/local/lib/python3.9/dist-packages (from astropy) (6.0)\n",
            "Requirement already satisfied: packaging>=19.0 in /usr/local/lib/python3.9/dist-packages (from astropy) (23.0)\n",
            "Requirement already satisfied: numpy>=1.20 in /usr/local/lib/python3.9/dist-packages (from astropy) (1.22.4)\n",
            "Requirement already satisfied: pyerfa>=2.0 in /usr/local/lib/python3.9/dist-packages (from astropy) (2.0.0.3)\n",
            "Requirement already satisfied: optax<0.2.0,>=0.1.4 in /usr/local/lib/python3.9/dist-packages (from pzflow) (0.1.4)\n",
            "Requirement already satisfied: pandas>=1.1 in /usr/local/lib/python3.9/dist-packages (from pzflow) (1.4.4)\n",
            "Requirement already satisfied: jax<0.5.0,>=0.4.2 in /usr/local/lib/python3.9/dist-packages (from pzflow) (0.4.6)\n",
            "Collecting dill<0.4.0,>=0.3.6\n",
            "  Downloading dill-0.3.6-py3-none-any.whl (110 kB)\n",
            "\u001b[2K     \u001b[90m━━━━━━━━━━━━━━━━━━━━━━━━━━━━━━━━━━━━━━\u001b[0m \u001b[32m110.5/110.5 KB\u001b[0m \u001b[31m15.4 MB/s\u001b[0m eta \u001b[36m0:00:00\u001b[0m\n",
            "\u001b[?25hRequirement already satisfied: jaxlib<0.5.0,>=0.4.2 in /usr/local/lib/python3.9/dist-packages (from pzflow) (0.4.6+cuda11.cudnn86)\n",
            "Requirement already satisfied: tqdm<5.0.0,>=4.64.1 in /usr/local/lib/python3.9/dist-packages (from pzflow) (4.65.0)\n",
            "Requirement already satisfied: matplotlib>=2.1 in /usr/local/lib/python3.9/dist-packages (from corner) (3.7.1)\n",
            "Requirement already satisfied: opt-einsum in /usr/local/lib/python3.9/dist-packages (from jax<0.5.0,>=0.4.2->pzflow) (3.3.0)\n",
            "Requirement already satisfied: scipy>=1.5 in /usr/local/lib/python3.9/dist-packages (from jax<0.5.0,>=0.4.2->pzflow) (1.10.1)\n",
            "Requirement already satisfied: python-dateutil>=2.7 in /usr/local/lib/python3.9/dist-packages (from matplotlib>=2.1->corner) (2.8.2)\n",
            "Requirement already satisfied: pyparsing>=2.3.1 in /usr/local/lib/python3.9/dist-packages (from matplotlib>=2.1->corner) (3.0.9)\n",
            "Requirement already satisfied: cycler>=0.10 in /usr/local/lib/python3.9/dist-packages (from matplotlib>=2.1->corner) (0.11.0)\n",
            "Requirement already satisfied: fonttools>=4.22.0 in /usr/local/lib/python3.9/dist-packages (from matplotlib>=2.1->corner) (4.39.2)\n",
            "Requirement already satisfied: kiwisolver>=1.0.1 in /usr/local/lib/python3.9/dist-packages (from matplotlib>=2.1->corner) (1.4.4)\n",
            "Requirement already satisfied: contourpy>=1.0.1 in /usr/local/lib/python3.9/dist-packages (from matplotlib>=2.1->corner) (1.0.7)\n",
            "Requirement already satisfied: pillow>=6.2.0 in /usr/local/lib/python3.9/dist-packages (from matplotlib>=2.1->corner) (8.4.0)\n",
            "Requirement already satisfied: importlib-resources>=3.2.0 in /usr/local/lib/python3.9/dist-packages (from matplotlib>=2.1->corner) (5.12.0)\n",
            "Requirement already satisfied: typing-extensions>=3.10.0 in /usr/local/lib/python3.9/dist-packages (from optax<0.2.0,>=0.1.4->pzflow) (4.5.0)\n",
            "Requirement already satisfied: chex>=0.1.5 in /usr/local/lib/python3.9/dist-packages (from optax<0.2.0,>=0.1.4->pzflow) (0.1.6)\n",
            "Requirement already satisfied: absl-py>=0.7.1 in /usr/local/lib/python3.9/dist-packages (from optax<0.2.0,>=0.1.4->pzflow) (1.4.0)\n",
            "Requirement already satisfied: pytz>=2020.1 in /usr/local/lib/python3.9/dist-packages (from pandas>=1.1->pzflow) (2022.7.1)\n",
            "Requirement already satisfied: dm-tree>=0.1.5 in /usr/local/lib/python3.9/dist-packages (from chex>=0.1.5->optax<0.2.0,>=0.1.4->pzflow) (0.1.8)\n",
            "Requirement already satisfied: toolz>=0.9.0 in /usr/local/lib/python3.9/dist-packages (from chex>=0.1.5->optax<0.2.0,>=0.1.4->pzflow) (0.12.0)\n",
            "Requirement already satisfied: zipp>=3.1.0 in /usr/local/lib/python3.9/dist-packages (from importlib-resources>=3.2.0->matplotlib>=2.1->corner) (3.15.0)\n",
            "Requirement already satisfied: six>=1.5 in /usr/local/lib/python3.9/dist-packages (from python-dateutil>=2.7->matplotlib>=2.1->corner) (1.16.0)\n",
            "Installing collected packages: dill, corner, pzflow\n",
            "Successfully installed corner-2.2.1 dill-0.3.6 pzflow-3.0.3\n"
          ]
        }
      ],
      "source": [
        "# install required libraries\n",
        "\n",
        "!pip install --upgrade \"jax[cuda]\" -f https://storage.googleapis.com/jax-releases/jax_cuda_releases.html\n",
        "!pip install astropy pzflow corner"
      ]
    },
    {
      "cell_type": "code",
      "source": [
        "# import statements\n",
        "\n",
        "from pzflow import Flow\n",
        "import jax.numpy as jnp\n",
        "import pandas as pd \n",
        "import numpy as np\n",
        "import pickle\n",
        "import corner\n",
        "import matplotlib.pyplot as plt\n",
        "from astropy.table import Table\n",
        "from pzflow import Flow, FlowEnsemble\n",
        "from pzflow.distributions import Uniform\n",
        "from pzflow.bijectors import Chain, StandardScaler, NeuralSplineCoupling, ColorTransform, InvSoftplus, RollingSplineCoupling, ShiftBounds"
      ],
      "metadata": {
        "id": "cjMKwoiyt9q7"
      },
      "execution_count": 2,
      "outputs": []
    },
    {
      "cell_type": "code",
      "source": [
        "# read in the data\n",
        "\n",
        "!wget --quiet -O dataset.tar https://drive.google.com/u/0/uc?id=1t9_3GqjFGhpgdjiww6vlmijS-3rgVaC0&export=download\n",
        "!tar -xf dataset.tar\n",
        "!mv for_francois dataset"
      ],
      "metadata": {
        "id": "3_ACTufIuHak"
      },
      "execution_count": 4,
      "outputs": []
    },
    {
      "cell_type": "code",
      "source": [
        "ls dataset/baseline_v1.4_10yrs/"
      ],
      "metadata": {
        "colab": {
          "base_uri": "https://localhost:8080/"
        },
        "id": "5WxH4pS1v2Xd",
        "outputId": "b99eac53-1fd9-41f4-e370-84434779eef9"
      },
      "execution_count": 15,
      "outputs": [
        {
          "output_type": "stream",
          "name": "stdout",
          "text": [
            "test.cat  zphot.cat\n"
          ]
        }
      ]
    },
    {
      "cell_type": "code",
      "source": [
        "names_z=('ID', 'z_true', 'z_phot', 'dz_phot', 'NN', 'N_train')\n",
        "names_phot=('ID', 'z_true', \n",
        "        'u', 'g', 'r', 'i', 'z', 'y', \n",
        "        'err_u', 'err_g', 'err_r', 'err_i', 'err_z', 'err_y', \n",
        "        'u-g', 'g-r', 'r-i', 'i-z', 'z-y',\n",
        "        'err_u-g', 'err_g-r', 'err_r-i', 'err_i-z', 'err_z-y')\n",
        "\n",
        "\n",
        "available_os = ['baseline_v1.4_10yrs', 'twilight_neo_mod1_v1.4_10yrs', 'var_expt_v1.4_10yrs', 'weather_1.2_v1.4_10yrs']\n",
        "os_colors = {'baseline_v1.4_10yrs': 'k', 'twilight_neo_mod1_v1.4_10yrs': '#2ca02c', 'var_expt_v1.4_10yrs': '#1f77b4', 'weather_1.2_v1.4_10yrs': '#ff7f0e'}\n",
        "\n",
        "phot_cats, z_cats = {}, {}\n",
        "for one_os in available_os:\n",
        "  test_cat = Table.read('dataset/'+one_os+'/test.cat', format='ascii')\n",
        "\n",
        "\n",
        "  z_cat = Table.read('dataset/'+one_os+'/zphot.cat', \n",
        "                       format='ascii', \n",
        "                       names=names_z)\n",
        "\n",
        "  phot_cat = Table.read('dataset/'+one_os+'/test.cat', \n",
        "                       format='ascii', \n",
        "                       names=names_phot)\n",
        "  phot_cat = Table.from_pandas(phot_cat.to_pandas().dropna())\n",
        "  phot_cats[one_os] = phot_cat\n",
        "  z_cats[one_os] = z_cat\n",
        "     "
      ],
      "metadata": {
        "id": "GeXHGmjKuOoJ"
      },
      "execution_count": 30,
      "outputs": []
    },
    {
      "cell_type": "code",
      "source": [],
      "metadata": {
        "id": "Huy8pnD3zAFq"
      },
      "execution_count": null,
      "outputs": []
    },
    {
      "cell_type": "code",
      "source": [
        "drop_cols = ['ID', 'z_true', 'u', 'g',  'i', 'z', 'y', \n",
        "        'err_u', 'err_g', 'err_r', 'err_i', 'err_z', 'err_y', \n",
        "        'err_u-g', 'err_g-r', 'err_r-i', 'err_i-z', 'err_z-y']\n"
      ],
      "metadata": {
        "id": "JRp8uTEKzAKp"
      },
      "execution_count": 42,
      "outputs": []
    },
    {
      "cell_type": "code",
      "source": [
        "phot_cats['baseline_v1.4_10yrs']"
      ],
      "metadata": {
        "colab": {
          "base_uri": "https://localhost:8080/",
          "height": 519
        },
        "id": "Wu-O7UtRzGXt",
        "outputId": "7ed89216-73fe-4b47-d3b3-142a54f2e981"
      },
      "execution_count": 43,
      "outputs": [
        {
          "output_type": "execute_result",
          "data": {
            "text/plain": [
              "<Table length=45467>\n",
              "   ID      z_true       u        g     ... err_g-r  err_r-i   err_i-z  err_z-y \n",
              " int64    float64    float64  float64  ... float64  float64   float64  float64 \n",
              "-------- ---------- --------- -------- ... -------- -------- --------- --------\n",
              " 5142370    1.61149 24.121025 0.053106 ... 0.188057 0.052722  0.260121 0.086867\n",
              "10264978  0.6093701 25.452115 0.146893 ...  0.14173 0.044184 -0.015132 0.081144\n",
              "14377082  1.4589336 24.812845 0.099648 ... 0.505887 0.055536  0.402858 0.070597\n",
              " 1763375  0.8317933 25.239161 0.167837 ...   0.3035 0.063029 -0.011151 0.113981\n",
              " 7447092  1.6073463 24.761218 0.101785 ... 0.182749 0.089865 -0.012705 0.140346\n",
              " 8482528  1.7008493 24.417782 0.077821 ... 0.358329 0.049065  0.130892 0.075765\n",
              "   18058  0.9633236 24.885715 0.111038 ... 0.334254 0.082569  0.163942 0.154186\n",
              "14547315  1.0057881 24.058781 0.055269 ... 0.427111 0.032869  0.013377 0.055577\n",
              " 1350298  1.4956608 24.764686 0.099332 ... 0.069297 0.112304  0.361729  0.17221\n",
              " 1710765 0.65748346 23.078948 0.025661 ... 0.194894 0.007071  0.086499 0.009575\n",
              "     ...        ...       ...      ... ...      ...      ...       ...      ...\n",
              "10699010  1.1586661 25.161249 0.126323 ... 0.798253 0.068023  0.125899 0.094197\n",
              "11514359  1.0056779 24.326949 0.072079 ... 0.601617 0.032766  0.109785 0.048399\n",
              " 4418785 0.48801935 23.988959 0.052136 ... 0.128563 0.012527  0.007093 0.021546\n",
              " 8884538   0.568287 25.137582 0.153993 ... 0.056833 0.059337  0.040024 0.115097\n",
              "13400965  1.4810922 24.520721 0.076187 ... 0.183577   0.0681  0.330101 0.096992\n",
              "14397855 0.61729276  22.35228 0.015766 ... 0.137748 0.007071  0.077302 0.007071\n",
              " 7802797  1.4070022 24.310817 0.066381 ... 0.140659 0.070073  0.436596    0.105\n",
              "13596631  1.0279839 24.827324 0.112767 ... 0.532797 0.071797  0.172554 0.121514\n",
              " 2249420 0.59973764 24.377532 0.076603 ... 0.157233 0.021593  0.060149  0.03826\n",
              "13384704  0.8507395 24.758625 0.109981 ... 0.290331 0.039741  0.103216 0.069618"
            ],
            "text/html": [
              "<div><i>Table length=45467</i>\n",
              "<table id=\"table140640979330096\" class=\"table-striped table-bordered table-condensed\">\n",
              "<thead><tr><th>ID</th><th>z_true</th><th>u</th><th>g</th><th>r</th><th>i</th><th>z</th><th>y</th><th>err_u</th><th>err_g</th><th>err_r</th><th>err_i</th><th>err_z</th><th>err_y</th><th>u-g</th><th>g-r</th><th>r-i</th><th>i-z</th><th>z-y</th><th>err_u-g</th><th>err_g-r</th><th>err_r-i</th><th>err_i-z</th><th>err_z-y</th></tr></thead>\n",
              "<thead><tr><th>int64</th><th>float64</th><th>float64</th><th>float64</th><th>float64</th><th>float64</th><th>float64</th><th>float64</th><th>float64</th><th>float64</th><th>float64</th><th>float64</th><th>float64</th><th>float64</th><th>float64</th><th>float64</th><th>float64</th><th>float64</th><th>float64</th><th>float64</th><th>float64</th><th>float64</th><th>float64</th><th>float64</th></tr></thead>\n",
              "<tr><td>5142370</td><td>1.61149</td><td>24.121025</td><td>0.053106</td><td>24.084064</td><td>0.021194</td><td>24.181071</td><td>0.020409</td><td>24.123542</td><td>0.028792</td><td>23.935485</td><td>0.044166</td><td>23.675364</td><td>0.074801</td><td>0.036961</td><td>0.057179</td><td>-0.097007</td><td>0.029423</td><td>0.057529</td><td>0.035292</td><td>0.188057</td><td>0.052722</td><td>0.260121</td><td>0.086867</td></tr>\n",
              "<tr><td>10264978</td><td>0.6093701</td><td>25.452115</td><td>0.146893</td><td>25.112487</td><td>0.047829</td><td>24.362166</td><td>0.02385</td><td>23.863323</td><td>0.024224</td><td>23.721593</td><td>0.036951</td><td>23.736725</td><td>0.072242</td><td>0.339628</td><td>0.154484</td><td>0.750321</td><td>0.053446</td><td>0.498843</td><td>0.033995</td><td>0.14173</td><td>0.044184</td><td>-0.015132</td><td>0.081144</td></tr>\n",
              "<tr><td>14377082</td><td>1.4589336</td><td>24.812845</td><td>0.099648</td><td>24.708982</td><td>0.036467</td><td>24.659695</td><td>0.031157</td><td>24.417965</td><td>0.036453</td><td>23.912078</td><td>0.041897</td><td>23.50922</td><td>0.056821</td><td>0.103862</td><td>0.106111</td><td>0.049287</td><td>0.047964</td><td>0.24173</td><td>0.047954</td><td>0.505887</td><td>0.055536</td><td>0.402858</td><td>0.070597</td></tr>\n",
              "<tr><td>1763375</td><td>0.8317933</td><td>25.239161</td><td>0.167837</td><td>25.307067</td><td>0.062421</td><td>25.126998</td><td>0.04635</td><td>24.42418</td><td>0.036193</td><td>24.12068</td><td>0.051602</td><td>24.131831</td><td>0.101631</td><td>-0.067906</td><td>0.179069</td><td>0.180069</td><td>0.077747</td><td>0.702819</td><td>0.058807</td><td>0.3035</td><td>0.063029</td><td>-0.011151</td><td>0.113981</td></tr>\n",
              "<tr><td>7447092</td><td>1.6073463</td><td>24.761218</td><td>0.101785</td><td>24.784247</td><td>0.037954</td><td>24.998465</td><td>0.040439</td><td>24.650014</td><td>0.051406</td><td>24.467265</td><td>0.07371</td><td>24.47997</td><td>0.119431</td><td>-0.023029</td><td>0.10863</td><td>-0.214218</td><td>0.05546</td><td>0.348451</td><td>0.065405</td><td>0.182749</td><td>0.089865</td><td>-0.012705</td><td>0.140346</td></tr>\n",
              "<tr><td>8482528</td><td>1.7008493</td><td>24.417782</td><td>0.077821</td><td>24.231526</td><td>0.024681</td><td>24.613342</td><td>0.029089</td><td>24.139406</td><td>0.030481</td><td>23.781078</td><td>0.038448</td><td>23.650186</td><td>0.065284</td><td>0.186256</td><td>0.081641</td><td>-0.381816</td><td>0.038149</td><td>0.473935</td><td>0.042134</td><td>0.358329</td><td>0.049065</td><td>0.130892</td><td>0.075765</td></tr>\n",
              "<tr><td>18058</td><td>0.9633236</td><td>24.885715</td><td>0.111038</td><td>25.021937</td><td>0.046457</td><td>25.077632</td><td>0.043183</td><td>24.767374</td><td>0.048662</td><td>24.433121</td><td>0.066705</td><td>24.269179</td><td>0.13901</td><td>-0.136222</td><td>0.120365</td><td>-0.055694</td><td>0.063427</td><td>0.310257</td><td>0.06506</td><td>0.334254</td><td>0.082569</td><td>0.163942</td><td>0.154186</td></tr>\n",
              "<tr><td>14547315</td><td>1.0057881</td><td>24.058781</td><td>0.055269</td><td>24.235431</td><td>0.02475</td><td>24.127675</td><td>0.019664</td><td>23.758553</td><td>0.021739</td><td>23.331442</td><td>0.024653</td><td>23.318065</td><td>0.049809</td><td>-0.176649</td><td>0.060558</td><td>0.107756</td><td>0.031611</td><td>0.369122</td><td>0.029313</td><td>0.427111</td><td>0.032869</td><td>0.013377</td><td>0.055577</td></tr>\n",
              "<tr><td>1350298</td><td>1.4956608</td><td>24.764686</td><td>0.099332</td><td>24.843673</td><td>0.04026</td><td>24.989548</td><td>0.04001</td><td>24.893349</td><td>0.060474</td><td>24.824052</td><td>0.094631</td><td>24.462323</td><td>0.143879</td><td>-0.078986</td><td>0.107181</td><td>-0.145875</td><td>0.05676</td><td>0.096199</td><td>0.072511</td><td>0.069297</td><td>0.112304</td><td>0.361729</td><td>0.17221</td></tr>\n",
              "<tr><td>1710765</td><td>0.65748346</td><td>23.078948</td><td>0.025661</td><td>22.8933</td><td>0.009557</td><td>22.276263</td><td>0.005055</td><td>21.629862</td><td>0.005</td><td>21.434968</td><td>0.005</td><td>21.348469</td><td>0.008165</td><td>0.185648</td><td>0.027383</td><td>0.617037</td><td>0.010812</td><td>0.646401</td><td>0.00711</td><td>0.194894</td><td>0.007071</td><td>0.086499</td><td>0.009575</td></tr>\n",
              "<tr><td>...</td><td>...</td><td>...</td><td>...</td><td>...</td><td>...</td><td>...</td><td>...</td><td>...</td><td>...</td><td>...</td><td>...</td><td>...</td><td>...</td><td>...</td><td>...</td><td>...</td><td>...</td><td>...</td><td>...</td><td>...</td><td>...</td><td>...</td><td>...</td></tr>\n",
              "<tr><td>10699010</td><td>1.1586661</td><td>25.161249</td><td>0.126323</td><td>25.137514</td><td>0.049245</td><td>24.999094</td><td>0.040711</td><td>24.731131</td><td>0.050326</td><td>23.932878</td><td>0.045764</td><td>23.806978</td><td>0.082332</td><td>0.023735</td><td>0.135582</td><td>0.13842</td><td>0.063894</td><td>0.267963</td><td>0.064731</td><td>0.798253</td><td>0.068023</td><td>0.125899</td><td>0.094197</td></tr>\n",
              "<tr><td>11514359</td><td>1.0056779</td><td>24.326949</td><td>0.072079</td><td>24.691343</td><td>0.03442</td><td>24.30547</td><td>0.022867</td><td>23.837301</td><td>0.023046</td><td>23.235684</td><td>0.023292</td><td>23.1259</td><td>0.042425</td><td>-0.364393</td><td>0.079876</td><td>0.385873</td><td>0.041324</td><td>0.468169</td><td>0.032465</td><td>0.601617</td><td>0.032766</td><td>0.109785</td><td>0.048399</td></tr>\n",
              "<tr><td>4418785</td><td>0.48801935</td><td>23.988959</td><td>0.052136</td><td>23.739475</td><td>0.016259</td><td>22.720102</td><td>0.006785</td><td>22.440882</td><td>0.007895</td><td>22.312319</td><td>0.009725</td><td>22.305226</td><td>0.019227</td><td>0.249484</td><td>0.054612</td><td>1.019373</td><td>0.017618</td><td>0.27922</td><td>0.010411</td><td>0.128563</td><td>0.012527</td><td>0.007093</td><td>0.021546</td></tr>\n",
              "<tr><td>8884538</td><td>0.568287</td><td>25.137582</td><td>0.153993</td><td>25.193408</td><td>0.05266</td><td>24.464121</td><td>0.02614</td><td>24.201853</td><td>0.03033</td><td>24.14502</td><td>0.051</td><td>24.104996</td><td>0.103181</td><td>-0.055827</td><td>0.162748</td><td>0.729287</td><td>0.058791</td><td>0.262268</td><td>0.04004</td><td>0.056833</td><td>0.059337</td><td>0.040024</td><td>0.115097</td></tr>\n",
              "<tr><td>13400965</td><td>1.4810922</td><td>24.520721</td><td>0.076187</td><td>24.598164</td><td>0.030961</td><td>24.573025</td><td>0.02899</td><td>24.391722</td><td>0.039933</td><td>24.208145</td><td>0.055163</td><td>23.878044</td><td>0.079777</td><td>-0.077443</td><td>0.082237</td><td>0.025139</td><td>0.042415</td><td>0.181304</td><td>0.049346</td><td>0.183577</td><td>0.0681</td><td>0.330101</td><td>0.096992</td></tr>\n",
              "<tr><td>14397855</td><td>0.61729276</td><td>22.35228</td><td>0.015766</td><td>22.080703</td><td>0.005925</td><td>21.379873</td><td>0.005</td><td>20.870425</td><td>0.005</td><td>20.732677</td><td>0.005</td><td>20.655375</td><td>0.005</td><td>0.271577</td><td>0.016842</td><td>0.700831</td><td>0.007753</td><td>0.509448</td><td>0.007071</td><td>0.137748</td><td>0.007071</td><td>0.077302</td><td>0.007071</td></tr>\n",
              "<tr><td>7802797</td><td>1.4070022</td><td>24.310817</td><td>0.066381</td><td>24.540088</td><td>0.029989</td><td>24.541476</td><td>0.028616</td><td>24.461149</td><td>0.040457</td><td>24.32049</td><td>0.057214</td><td>23.883895</td><td>0.088043</td><td>-0.229271</td><td>0.07284</td><td>-0.001388</td><td>0.041451</td><td>0.080327</td><td>0.049555</td><td>0.140659</td><td>0.070073</td><td>0.436596</td><td>0.105</td></tr>\n",
              "<tr><td>13596631</td><td>1.0279839</td><td>24.827324</td><td>0.112767</td><td>25.006379</td><td>0.046138</td><td>24.982716</td><td>0.040795</td><td>24.726936</td><td>0.046983</td><td>24.194138</td><td>0.05429</td><td>24.021585</td><td>0.108712</td><td>-0.179055</td><td>0.121841</td><td>0.023662</td><td>0.061587</td><td>0.25578</td><td>0.062222</td><td>0.532797</td><td>0.071797</td><td>0.172554</td><td>0.121514</td></tr>\n",
              "<tr><td>2249420</td><td>0.59973764</td><td>24.377532</td><td>0.076603</td><td>24.348074</td><td>0.025946</td><td>23.57858</td><td>0.012675</td><td>23.085684</td><td>0.012725</td><td>22.928451</td><td>0.017445</td><td>22.868302</td><td>0.034051</td><td>0.029458</td><td>0.080878</td><td>0.769493</td><td>0.028877</td><td>0.492897</td><td>0.017961</td><td>0.157233</td><td>0.021593</td><td>0.060149</td><td>0.03826</td></tr>\n",
              "<tr><td>13384704</td><td>0.8507395</td><td>24.758625</td><td>0.109981</td><td>24.847785</td><td>0.041477</td><td>24.689588</td><td>0.030145</td><td>23.892692</td><td>0.024026</td><td>23.602361</td><td>0.031656</td><td>23.499145</td><td>0.062005</td><td>-0.08916</td><td>0.117543</td><td>0.158197</td><td>0.051274</td><td>0.796896</td><td>0.038548</td><td>0.290331</td><td>0.039741</td><td>0.103216</td><td>0.069618</td></tr>\n",
              "</table></div>"
            ]
          },
          "metadata": {},
          "execution_count": 43
        }
      ]
    },
    {
      "cell_type": "code",
      "source": [
        "phot_cats['baseline_v1.4_10yrs'].to_pandas().drop(drop_cols, axis = 1)"
      ],
      "metadata": {
        "colab": {
          "base_uri": "https://localhost:8080/",
          "height": 419
        },
        "id": "hL4_BP9Ky4Sb",
        "outputId": "84b1da17-8c06-43d8-f49c-b49cdf55ace4"
      },
      "execution_count": 44,
      "outputs": [
        {
          "output_type": "execute_result",
          "data": {
            "text/plain": [
              "               r       u-g       g-r       r-i       i-z       z-y\n",
              "0      24.084064  0.036961  0.057179 -0.097007  0.029423  0.057529\n",
              "1      25.112487  0.339628  0.154484  0.750321  0.053446  0.498843\n",
              "2      24.708982  0.103862  0.106111  0.049287  0.047964  0.241730\n",
              "3      25.307067 -0.067906  0.179069  0.180069  0.077747  0.702819\n",
              "4      24.784247 -0.023029  0.108630 -0.214218  0.055460  0.348451\n",
              "...          ...       ...       ...       ...       ...       ...\n",
              "45462  22.080703  0.271577  0.016842  0.700831  0.007753  0.509448\n",
              "45463  24.540088 -0.229271  0.072840 -0.001388  0.041451  0.080327\n",
              "45464  25.006379 -0.179055  0.121841  0.023662  0.061587  0.255780\n",
              "45465  24.348074  0.029458  0.080878  0.769493  0.028877  0.492897\n",
              "45466  24.847785 -0.089160  0.117543  0.158197  0.051274  0.796896\n",
              "\n",
              "[45467 rows x 6 columns]"
            ],
            "text/html": [
              "\n",
              "  <div id=\"df-9baf7737-3ae4-4908-b160-57511269b086\">\n",
              "    <div class=\"colab-df-container\">\n",
              "      <div>\n",
              "<style scoped>\n",
              "    .dataframe tbody tr th:only-of-type {\n",
              "        vertical-align: middle;\n",
              "    }\n",
              "\n",
              "    .dataframe tbody tr th {\n",
              "        vertical-align: top;\n",
              "    }\n",
              "\n",
              "    .dataframe thead th {\n",
              "        text-align: right;\n",
              "    }\n",
              "</style>\n",
              "<table border=\"1\" class=\"dataframe\">\n",
              "  <thead>\n",
              "    <tr style=\"text-align: right;\">\n",
              "      <th></th>\n",
              "      <th>r</th>\n",
              "      <th>u-g</th>\n",
              "      <th>g-r</th>\n",
              "      <th>r-i</th>\n",
              "      <th>i-z</th>\n",
              "      <th>z-y</th>\n",
              "    </tr>\n",
              "  </thead>\n",
              "  <tbody>\n",
              "    <tr>\n",
              "      <th>0</th>\n",
              "      <td>24.084064</td>\n",
              "      <td>0.036961</td>\n",
              "      <td>0.057179</td>\n",
              "      <td>-0.097007</td>\n",
              "      <td>0.029423</td>\n",
              "      <td>0.057529</td>\n",
              "    </tr>\n",
              "    <tr>\n",
              "      <th>1</th>\n",
              "      <td>25.112487</td>\n",
              "      <td>0.339628</td>\n",
              "      <td>0.154484</td>\n",
              "      <td>0.750321</td>\n",
              "      <td>0.053446</td>\n",
              "      <td>0.498843</td>\n",
              "    </tr>\n",
              "    <tr>\n",
              "      <th>2</th>\n",
              "      <td>24.708982</td>\n",
              "      <td>0.103862</td>\n",
              "      <td>0.106111</td>\n",
              "      <td>0.049287</td>\n",
              "      <td>0.047964</td>\n",
              "      <td>0.241730</td>\n",
              "    </tr>\n",
              "    <tr>\n",
              "      <th>3</th>\n",
              "      <td>25.307067</td>\n",
              "      <td>-0.067906</td>\n",
              "      <td>0.179069</td>\n",
              "      <td>0.180069</td>\n",
              "      <td>0.077747</td>\n",
              "      <td>0.702819</td>\n",
              "    </tr>\n",
              "    <tr>\n",
              "      <th>4</th>\n",
              "      <td>24.784247</td>\n",
              "      <td>-0.023029</td>\n",
              "      <td>0.108630</td>\n",
              "      <td>-0.214218</td>\n",
              "      <td>0.055460</td>\n",
              "      <td>0.348451</td>\n",
              "    </tr>\n",
              "    <tr>\n",
              "      <th>...</th>\n",
              "      <td>...</td>\n",
              "      <td>...</td>\n",
              "      <td>...</td>\n",
              "      <td>...</td>\n",
              "      <td>...</td>\n",
              "      <td>...</td>\n",
              "    </tr>\n",
              "    <tr>\n",
              "      <th>45462</th>\n",
              "      <td>22.080703</td>\n",
              "      <td>0.271577</td>\n",
              "      <td>0.016842</td>\n",
              "      <td>0.700831</td>\n",
              "      <td>0.007753</td>\n",
              "      <td>0.509448</td>\n",
              "    </tr>\n",
              "    <tr>\n",
              "      <th>45463</th>\n",
              "      <td>24.540088</td>\n",
              "      <td>-0.229271</td>\n",
              "      <td>0.072840</td>\n",
              "      <td>-0.001388</td>\n",
              "      <td>0.041451</td>\n",
              "      <td>0.080327</td>\n",
              "    </tr>\n",
              "    <tr>\n",
              "      <th>45464</th>\n",
              "      <td>25.006379</td>\n",
              "      <td>-0.179055</td>\n",
              "      <td>0.121841</td>\n",
              "      <td>0.023662</td>\n",
              "      <td>0.061587</td>\n",
              "      <td>0.255780</td>\n",
              "    </tr>\n",
              "    <tr>\n",
              "      <th>45465</th>\n",
              "      <td>24.348074</td>\n",
              "      <td>0.029458</td>\n",
              "      <td>0.080878</td>\n",
              "      <td>0.769493</td>\n",
              "      <td>0.028877</td>\n",
              "      <td>0.492897</td>\n",
              "    </tr>\n",
              "    <tr>\n",
              "      <th>45466</th>\n",
              "      <td>24.847785</td>\n",
              "      <td>-0.089160</td>\n",
              "      <td>0.117543</td>\n",
              "      <td>0.158197</td>\n",
              "      <td>0.051274</td>\n",
              "      <td>0.796896</td>\n",
              "    </tr>\n",
              "  </tbody>\n",
              "</table>\n",
              "<p>45467 rows × 6 columns</p>\n",
              "</div>\n",
              "      <button class=\"colab-df-convert\" onclick=\"convertToInteractive('df-9baf7737-3ae4-4908-b160-57511269b086')\"\n",
              "              title=\"Convert this dataframe to an interactive table.\"\n",
              "              style=\"display:none;\">\n",
              "        \n",
              "  <svg xmlns=\"http://www.w3.org/2000/svg\" height=\"24px\"viewBox=\"0 0 24 24\"\n",
              "       width=\"24px\">\n",
              "    <path d=\"M0 0h24v24H0V0z\" fill=\"none\"/>\n",
              "    <path d=\"M18.56 5.44l.94 2.06.94-2.06 2.06-.94-2.06-.94-.94-2.06-.94 2.06-2.06.94zm-11 1L8.5 8.5l.94-2.06 2.06-.94-2.06-.94L8.5 2.5l-.94 2.06-2.06.94zm10 10l.94 2.06.94-2.06 2.06-.94-2.06-.94-.94-2.06-.94 2.06-2.06.94z\"/><path d=\"M17.41 7.96l-1.37-1.37c-.4-.4-.92-.59-1.43-.59-.52 0-1.04.2-1.43.59L10.3 9.45l-7.72 7.72c-.78.78-.78 2.05 0 2.83L4 21.41c.39.39.9.59 1.41.59.51 0 1.02-.2 1.41-.59l7.78-7.78 2.81-2.81c.8-.78.8-2.07 0-2.86zM5.41 20L4 18.59l7.72-7.72 1.47 1.35L5.41 20z\"/>\n",
              "  </svg>\n",
              "      </button>\n",
              "      \n",
              "  <style>\n",
              "    .colab-df-container {\n",
              "      display:flex;\n",
              "      flex-wrap:wrap;\n",
              "      gap: 12px;\n",
              "    }\n",
              "\n",
              "    .colab-df-convert {\n",
              "      background-color: #E8F0FE;\n",
              "      border: none;\n",
              "      border-radius: 50%;\n",
              "      cursor: pointer;\n",
              "      display: none;\n",
              "      fill: #1967D2;\n",
              "      height: 32px;\n",
              "      padding: 0 0 0 0;\n",
              "      width: 32px;\n",
              "    }\n",
              "\n",
              "    .colab-df-convert:hover {\n",
              "      background-color: #E2EBFA;\n",
              "      box-shadow: 0px 1px 2px rgba(60, 64, 67, 0.3), 0px 1px 3px 1px rgba(60, 64, 67, 0.15);\n",
              "      fill: #174EA6;\n",
              "    }\n",
              "\n",
              "    [theme=dark] .colab-df-convert {\n",
              "      background-color: #3B4455;\n",
              "      fill: #D2E3FC;\n",
              "    }\n",
              "\n",
              "    [theme=dark] .colab-df-convert:hover {\n",
              "      background-color: #434B5C;\n",
              "      box-shadow: 0px 1px 3px 1px rgba(0, 0, 0, 0.15);\n",
              "      filter: drop-shadow(0px 1px 2px rgba(0, 0, 0, 0.3));\n",
              "      fill: #FFFFFF;\n",
              "    }\n",
              "  </style>\n",
              "\n",
              "      <script>\n",
              "        const buttonEl =\n",
              "          document.querySelector('#df-9baf7737-3ae4-4908-b160-57511269b086 button.colab-df-convert');\n",
              "        buttonEl.style.display =\n",
              "          google.colab.kernel.accessAllowed ? 'block' : 'none';\n",
              "\n",
              "        async function convertToInteractive(key) {\n",
              "          const element = document.querySelector('#df-9baf7737-3ae4-4908-b160-57511269b086');\n",
              "          const dataTable =\n",
              "            await google.colab.kernel.invokeFunction('convertToInteractive',\n",
              "                                                     [key], {});\n",
              "          if (!dataTable) return;\n",
              "\n",
              "          const docLinkHtml = 'Like what you see? Visit the ' +\n",
              "            '<a target=\"_blank\" href=https://colab.research.google.com/notebooks/data_table.ipynb>data table notebook</a>'\n",
              "            + ' to learn more about interactive tables.';\n",
              "          element.innerHTML = '';\n",
              "          dataTable['output_type'] = 'display_data';\n",
              "          await google.colab.output.renderOutput(dataTable, element);\n",
              "          const docLink = document.createElement('div');\n",
              "          docLink.innerHTML = docLinkHtml;\n",
              "          element.appendChild(docLink);\n",
              "        }\n",
              "      </script>\n",
              "    </div>\n",
              "  </div>\n",
              "  "
            ]
          },
          "metadata": {},
          "execution_count": 44
        }
      ]
    },
    {
      "cell_type": "code",
      "source": [
        "# conditional_columns = phot_cats['baseline_v1.4_10yrs'].to_pandas().drop(drop_cols, axis = 1)"
      ],
      "metadata": {
        "id": "PmAgnKAjxBUH"
      },
      "execution_count": 45,
      "outputs": []
    },
    {
      "cell_type": "code",
      "source": [
        "from matplotlib.pyplot import hist, xlabel, ylabel, legend \n",
        "\n",
        "for which_os in available_os:\n",
        "  hist(z_cats[which_os]['z_true'], bins=50, alpha=0.35, color=os_colors[which_os], \n",
        "       label=which_os+': '+str(len(phot_cats[which_os]))+' galaxies', density = True)\n",
        "xlabel(r'true redshift $z$')\n",
        "ylabel('number of galaxies')\n",
        "legend(loc='upper right', fontsize='small')"
      ],
      "metadata": {
        "colab": {
          "base_uri": "https://localhost:8080/",
          "height": 298
        },
        "id": "7FnoZxdwu9uP",
        "outputId": "67c64b85-c330-4da2-8f93-bf966797ec86"
      },
      "execution_count": 12,
      "outputs": [
        {
          "output_type": "execute_result",
          "data": {
            "text/plain": [
              "<matplotlib.legend.Legend at 0x7fe980acaca0>"
            ]
          },
          "metadata": {},
          "execution_count": 12
        },
        {
          "output_type": "display_data",
          "data": {
            "text/plain": [
              "<Figure size 432x288 with 1 Axes>"
            ],
            "image/png": "[encoded data removed]"
          },
          "metadata": {
            "needs_background": "light"
          }
        }
      ]
    },
    {
      "cell_type": "code",
      "source": [
        "# up to this point, using exact routines from TLM - switching to CASTOR inherited scripts"
      ],
      "metadata": {
        "id": "JS6l4eMlvGmW"
      },
      "execution_count": 16,
      "outputs": []
    },
    {
      "cell_type": "code",
      "source": [
        "# mins = [0, 20, -5, -5, -5, -5, -5]\n",
        "# maxs = [6, 30, 5, 5, 5, 5, 5]\n",
        "\n",
        "# the data column is the one that is sampled and transformed by the flow\n",
        "data_columns = [\"z_true\"]\n",
        "\n",
        "all_cond_cols = {}\n",
        "ensembles = dict()\n",
        "\n",
        "for os in available_os:#catalogs.keys():\n",
        " # the conditional columns are the columns that the flow is conditioned on\n",
        "  #conditional_columns = phot_cats[os].columns.drop('z_true')#[\"r\", \"g-r\", \"r-i\", \"i-z\"] #, \"uv-u\", \"u-g\"] # different colors than LSST\n",
        "  conditional_columns = phot_cats['baseline_v1.4_10yrs'].to_pandas().drop(drop_cols, axis = 1)\n",
        "  all_cond_cols[os] = conditional_columns\n",
        "  # print((os, conditional_columns))\n",
        "  ndcol = len(data_columns)\n",
        "  ncond = len(conditional_columns)\n",
        "  ndim = ndcol+ncond\n",
        "\n",
        "# first I create a bijector chain\n",
        "# the first bijection is a standard scaler - but I'm not actually using it for standard scaling\n",
        "#     I set the mean and std so that it maps the redshift range (0, 3.2) onto (-5, 5), which is \n",
        "#     the domain of the NeuralSplineCoupling\n",
        "# the second bijection is a NeuralSplineCoupling. I told it to expect 6 conditions,\n",
        "#     which will be the r mag and the galaxy colors\n",
        "# bijector = Chain(\n",
        "#     StandardScaler(np.atleast_1d(1.6), np.atleast_1d(0.32)),\n",
        "#     NeuralSplineCoupling(n_conditions=6)\n",
        "# )\n",
        "#   bijector = Chain(\n",
        "#     # InvSoftplus(z_col, sharpness),\n",
        "#     ShiftBounds(0, 6, B=4),\n",
        "#     RollingSplineCoupling(nlayers=1, n_conditions=ncond, B=6),\n",
        "#   )\n",
        "\n",
        "  bijector = Chain(\n",
        "    StandardScaler(np.atleast_1d(1.6), np.atleast_1d(0.32)),\n",
        "    NeuralSplineCoupling(B=5, n_conditions=6)\n",
        "  )\n",
        "\n",
        "# I set the latent distribution to a Uniform over (-5, 5)\n",
        "# this range was chosen to match the NeuralSplineCoupling domain\n",
        "# I chose a Uniform since all of the redshifts are drawn from a compact domain\n",
        "# latent = Uniform(1, 5) # did the syntax here change?\n",
        "\n",
        "  latent = Uniform(input_dim=ndcol, B=7)#(-5, 5), (-5, 5), (-5, 5), (-5, 5), (-5, 5), (-5, 5), (-5, 5))\n",
        "\n",
        "  flowEns2 = FlowEnsemble(data_columns = data_columns, \n",
        "                           conditional_columns = conditional_columns,\n",
        "                           bijector = bijector,\n",
        "                           latent = latent,\n",
        "                          #  info = info#, \n",
        "                          #  N = 10\n",
        "                            )\n",
        "  ensembles[os] = flowEns2"
      ],
      "metadata": {
        "id": "jjM40GXtwR9D"
      },
      "execution_count": 55,
      "outputs": []
    },
    {
      "cell_type": "code",
      "source": [
        "ensembles"
      ],
      "metadata": {
        "colab": {
          "base_uri": "https://localhost:8080/"
        },
        "id": "0-5cNt87wpr2",
        "outputId": "189db5d8-ed81-4ab0-f706-75a14e80a2aa"
      },
      "execution_count": 54,
      "outputs": [
        {
          "output_type": "execute_result",
          "data": {
            "text/plain": [
              "{'baseline_v1.4_10yrs': <pzflow.flowEnsemble.FlowEnsemble at 0x7fe9693f0cd0>,\n",
              " 'twilight_neo_mod1_v1.4_10yrs': <pzflow.flowEnsemble.FlowEnsemble at 0x7fe9693f0940>,\n",
              " 'var_expt_v1.4_10yrs': <pzflow.flowEnsemble.FlowEnsemble at 0x7fe9693f0b80>,\n",
              " 'weather_1.2_v1.4_10yrs': <pzflow.flowEnsemble.FlowEnsemble at 0x7fe9840a16d0>}"
            ]
          },
          "metadata": {},
          "execution_count": 54
        }
      ]
    },
    {
      "cell_type": "code",
      "source": [
        "# temporary\n",
        "\n",
        "from google.colab import drive\n",
        "drive.mount('/content/drive')\n",
        "prepend = '/content/drive/MyDrive/Research/RubinPz/'"
      ],
      "metadata": {
        "colab": {
          "base_uri": "https://localhost:8080/"
        },
        "id": "XUmp0SDC2iEX",
        "outputId": "5d649181-4841-45d1-8e97-130e85a94c38"
      },
      "execution_count": 64,
      "outputs": [
        {
          "output_type": "stream",
          "name": "stdout",
          "text": [
            "Mounted at /content/drive\n"
          ]
        }
      ]
    },
    {
      "cell_type": "code",
      "source": [
        "ls '/content/drive/MyDrive/Research/RubinPz/'"
      ],
      "metadata": {
        "id": "YGbn3JeJ3BYC"
      },
      "execution_count": 65,
      "outputs": []
    },
    {
      "cell_type": "code",
      "source": [
        "# tav_train, tav_test = {}, {}\n",
        "for os in available_os:#:\n",
        "    ens  = ensembles[os]\n",
        "    # get the data and make a train and test set\n",
        "    cat = phot_cats[os].to_pandas()\n",
        "    # cat_train = cat.sample(frac = 0.99)\n",
        "    # cat_test = cat.drop(cat_train.index)\n",
        "    cat_train = cat\n",
        "    print(os)\n",
        "    # train the flow on the given learning rate schedule\n",
        "    loss = ens.train(cat_train,#conditional_columns], \n",
        "                               convolve_errs=False,\n",
        "                       epochs = 100, verbose=True)\n",
        "    # loss2 = ens.train(cat_train, convolve_errs=True,\n",
        "    #                    epochs = 30, seed = 312)\n",
        "    # loss3 = ens.train(cat_train, convolve_errs=True,\n",
        "    #                    epochs = 30, seed = 231)\n",
        "    \n",
        "    # losses = {fname : # for each flow trained in the ensemble...\n",
        "    #               [float(loss) # save the list of training losses\n",
        "    #                for lossDict in [loss1]#, loss2, loss3]\n",
        "    #                for loss in lossDict[fname]]\n",
        "    #           for fname in loss1}\n",
        "    \n",
        "    # print the train and test loss\n",
        "    train_loss = -np.mean(ens.log_prob(cat_train))\n",
        "    # test_loss = -np.mean(ens.log_prob(cat_test))\n",
        "    print(os, train_loss)#, test_loss)\n",
        "    # post_trained[os] = ens\n",
        "    # save the ensemble\n",
        "    ens.save(prepend+f\"pzflow_ensemble_for_{os}.pkl\")\n",
        "    # and the losses\n",
        "    with open(prepend+f\"losses_for_{os}.pkl\", \"wb\") as file:\n",
        "        pickle.dump({\"losses\": loss, \n",
        "                     \"train loss\": train_loss, \n",
        "                    #  \"test loss\": test_loss,\n",
        "                     \"train_ids\": cat_train.index},\n",
        "                    file)\n",
        "        \n",
        "    # mutual_information_lower_bound_train = ens.log_prob(cat_train, returnEnsemble=True)\n",
        "    # mutual_information_lower_bound_test = ens.log_prob(cat_test, returnEnsemble=True)\n",
        "    # tav_train[os] = mutual_information_lower_bound_train\n",
        "    # tav_test[os] = mutual_information_lower_bound_test\n"
      ],
      "metadata": {
        "colab": {
          "base_uri": "https://localhost:8080/"
        },
        "id": "j7MYPD_q00Yr",
        "outputId": "d552c228-fc24-4a28-d7d9-1f3bb33f4bd4"
      },
      "execution_count": 66,
      "outputs": [
        {
          "output_type": "stream",
          "name": "stdout",
          "text": [
            "baseline_v1.4_10yrs\n",
            "Flow 0\n",
            "Training 100 epochs \n",
            "Loss:\n",
            "(0) -1.7144\n",
            "(1) -1.7097\n",
            "(6) -1.6567\n",
            "(11) -1.7108\n",
            "(16) -1.7077\n",
            "(21) -1.6828\n",
            "(26) -1.7061\n",
            "(31) -1.6636\n",
            "(36) -1.7109\n",
            "(41) -1.7195\n",
            "(46) -1.6372\n",
            "(51) -1.7106\n",
            "(56) -1.7143\n",
            "(61) -1.7246\n",
            "(66) -1.7173\n",
            "(71) -1.7377\n",
            "(76) -1.7384\n",
            "(81) -1.7255\n",
            "(86) -1.7302\n",
            "(91) -1.7335\n",
            "(96) -0.6500\n",
            "(100) -1.6745\n",
            "baseline_v1.4_10yrs -1.6744854\n",
            "twilight_neo_mod1_v1.4_10yrs\n",
            "Flow 0\n",
            "Training 100 epochs \n",
            "Loss:\n",
            "(0) 1.5806\n",
            "(1) 0.2340\n",
            "(6) -0.9356\n",
            "(11) -1.0980\n",
            "(16) -1.1727\n",
            "(21) -1.2376\n",
            "(26) -1.2737\n",
            "(31) -1.3070\n",
            "(36) -1.3346\n",
            "(41) -1.3084\n",
            "(46) -1.3705\n",
            "(51) -1.4138\n",
            "(56) -1.4216\n",
            "(61) -1.4141\n",
            "(66) -1.4297\n",
            "(71) -1.4171\n",
            "(76) -1.4373\n",
            "(81) -1.4380\n",
            "(86) -1.4467\n",
            "(91) -1.4690\n",
            "(96) -1.4898\n",
            "(100) -1.4957\n",
            "twilight_neo_mod1_v1.4_10yrs -1.4956824\n",
            "var_expt_v1.4_10yrs\n",
            "Flow 0\n",
            "Training 100 epochs \n",
            "Loss:\n",
            "(0) 1.5626\n",
            "(1) 0.0775\n",
            "(6) -0.9369\n",
            "(11) -1.1786\n",
            "(16) -1.2725\n",
            "(21) -1.2132\n",
            "(26) -1.3745\n",
            "(31) -1.3472\n",
            "(36) -1.3399\n",
            "(41) -1.4319\n",
            "(46) -1.3030\n",
            "(51) -1.3467\n",
            "(56) -1.4948\n",
            "(61) -1.5104\n",
            "(66) -1.5060\n",
            "(71) -1.4799\n",
            "(76) -1.5166\n",
            "(81) -1.5501\n",
            "(86) -1.5329\n",
            "(91) -1.5302\n",
            "(96) -1.5943\n",
            "(100) -1.6024\n",
            "var_expt_v1.4_10yrs -1.6024035\n",
            "weather_1.2_v1.4_10yrs\n",
            "Flow 0\n",
            "Training 100 epochs \n",
            "Loss:\n",
            "(0) 1.5901\n",
            "(1) 0.2395\n",
            "(6) -0.8323\n",
            "(11) -1.1071\n",
            "(16) -1.2127\n",
            "(21) -1.2931\n",
            "(26) -1.3472\n",
            "(31) -0.9428\n",
            "(36) -1.2617\n",
            "(41) -1.4010\n",
            "(46) -1.4002\n",
            "(51) -1.3940\n",
            "(56) -1.4017\n",
            "(61) -1.4850\n",
            "(66) -1.5030\n",
            "(71) -1.1451\n",
            "(76) -1.3651\n",
            "(81) -1.5034\n",
            "(86) -1.5320\n",
            "(91) -1.2696\n",
            "(96) -1.4581\n",
            "(100) -0.8437\n",
            "weather_1.2_v1.4_10yrs -0.8436988\n"
          ]
        }
      ]
    },
    {
      "cell_type": "code",
      "source": [],
      "metadata": {
        "id": "QsWIMD4f1ruc"
      },
      "execution_count": null,
      "outputs": []
    }
  ]
}