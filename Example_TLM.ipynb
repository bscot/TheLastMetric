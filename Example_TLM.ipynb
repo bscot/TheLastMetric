{
  "nbformat": 4,
  "nbformat_minor": 0,
  "metadata": {
    "colab": {
      "provenance": [],
      "authorship_tag": "ABX9TyOt9cBjDT7hMdPWJpphP61S",
      "include_colab_link": true
    },
    "kernelspec": {
      "name": "python3",
      "display_name": "Python 3"
    },
    "language_info": {
      "name": "python"
    },
    "accelerator": "GPU",
    "gpuClass": "standard"
  },
  "cells": [
    {
      "cell_type": "markdown",
      "metadata": {
        "id": "view-in-github",
        "colab_type": "text"
      },
      "source": [
        "<a href=\"https://colab.research.google.com/github/bscot/TheLastMetric/blob/master/Example_TLM.ipynb\" target=\"_parent\"><img src=\"https://colab.research.google.com/assets/colab-badge.svg\" alt=\"Open In Colab\"/></a>"
      ]
    },
    {
      "cell_type": "code",
      "execution_count": 1,
      "metadata": {
        "colab": {
          "base_uri": "https://localhost:8080/"
        },
        "id": "jGuNECrstsTE",
        "outputId": "4635de76-3c8a-4393-a1e9-9cf9017339eb"
      },
      "outputs": [
        {
          "output_type": "stream",
          "name": "stdout",
          "text": [
            "Looking in indexes: https://pypi.org/simple, https://us-python.pkg.dev/colab-wheels/public/simple/\n",
            "Looking in links: https://storage.googleapis.com/jax-releases/jax_cuda_releases.html\n",
            "Requirement already satisfied: jax[cuda] in /usr/local/lib/python3.9/dist-packages (0.4.6)\n",
            "Collecting jax[cuda]\n",
            "  Downloading jax-0.4.7.tar.gz (1.2 MB)\n",
            "\u001b[2K     \u001b[90m━━━━━━━━━━━━━━━━━━━━━━━━━━━━━━━━━━━━━━━━\u001b[0m \u001b[32m1.2/1.2 MB\u001b[0m \u001b[31m23.0 MB/s\u001b[0m eta \u001b[36m0:00:00\u001b[0m\n",
            "\u001b[?25h  Preparing metadata (setup.py) ... \u001b[?25l\u001b[?25hdone\n",
            "Collecting ml_dtypes>=0.0.3\n",
            "  Downloading ml_dtypes-0.0.4-cp39-cp39-manylinux_2_17_x86_64.manylinux2014_x86_64.whl (154 kB)\n",
            "\u001b[2K     \u001b[90m━━━━━━━━━━━━━━━━━━━━━━━━━━━━━━━━━━━━━━━\u001b[0m \u001b[32m154.9/154.9 KB\u001b[0m \u001b[31m9.2 MB/s\u001b[0m eta \u001b[36m0:00:00\u001b[0m\n",
            "\u001b[?25hRequirement already satisfied: numpy>=1.21 in /usr/local/lib/python3.9/dist-packages (from jax[cuda]) (1.22.4)\n",
            "Requirement already satisfied: opt_einsum in /usr/local/lib/python3.9/dist-packages (from jax[cuda]) (3.3.0)\n",
            "Requirement already satisfied: scipy>=1.7 in /usr/local/lib/python3.9/dist-packages (from jax[cuda]) (1.10.1)\n",
            "Collecting jaxlib==0.4.7+cuda11.cudnn86\n",
            "  Downloading https://storage.googleapis.com/jax-releases/cuda11/jaxlib-0.4.7%2Bcuda11.cudnn86-cp39-cp39-manylinux2014_x86_64.whl (152.0 MB)\n",
            "\u001b[2K     \u001b[90m━━━━━━━━━━━━━━━━━━━━━━━━━━━━━━━━━━━━━━━\u001b[0m \u001b[32m152.0/152.0 MB\u001b[0m \u001b[31m5.7 MB/s\u001b[0m eta \u001b[36m0:00:00\u001b[0m\n",
            "\u001b[?25hBuilding wheels for collected packages: jax\n",
            "  Building wheel for jax (setup.py) ... \u001b[?25l\u001b[?25hdone\n",
            "  Created wheel for jax: filename=jax-0.4.7-py3-none-any.whl size=1438287 sha256=8b89c1e3337e548a708568f85c5324975810f1177507c285bf0712c46d8082c0\n",
            "  Stored in directory: /root/.cache/pip/wheels/e9/73/66/a8af684b751f8cf468ce4b76759785559cd0a35e5e2973fd2a\n",
            "Successfully built jax\n",
            "Installing collected packages: ml_dtypes, jaxlib, jax\n",
            "  Attempting uninstall: jaxlib\n",
            "    Found existing installation: jaxlib 0.4.6+cuda11.cudnn86\n",
            "    Uninstalling jaxlib-0.4.6+cuda11.cudnn86:\n",
            "      Successfully uninstalled jaxlib-0.4.6+cuda11.cudnn86\n",
            "  Attempting uninstall: jax\n",
            "    Found existing installation: jax 0.4.6\n",
            "    Uninstalling jax-0.4.6:\n",
            "      Successfully uninstalled jax-0.4.6\n",
            "Successfully installed jax-0.4.7 jaxlib-0.4.7+cuda11.cudnn86 ml_dtypes-0.0.4\n",
            "Looking in indexes: https://pypi.org/simple, https://us-python.pkg.dev/colab-wheels/public/simple/\n",
            "Requirement already satisfied: astropy in /usr/local/lib/python3.9/dist-packages (5.2.1)\n",
            "Collecting pzflow\n",
            "  Downloading pzflow-3.0.3-py3-none-any.whl (8.7 MB)\n",
            "\u001b[2K     \u001b[90m━━━━━━━━━━━━━━━━━━━━━━━━━━━━━━━━━━━━━━━━\u001b[0m \u001b[32m8.7/8.7 MB\u001b[0m \u001b[31m84.0 MB/s\u001b[0m eta \u001b[36m0:00:00\u001b[0m\n",
            "\u001b[?25hCollecting corner\n",
            "  Downloading corner-2.2.1-py3-none-any.whl (15 kB)\n",
            "Requirement already satisfied: packaging>=19.0 in /usr/local/lib/python3.9/dist-packages (from astropy) (23.0)\n",
            "Requirement already satisfied: PyYAML>=3.13 in /usr/local/lib/python3.9/dist-packages (from astropy) (6.0)\n",
            "Requirement already satisfied: numpy>=1.20 in /usr/local/lib/python3.9/dist-packages (from astropy) (1.22.4)\n",
            "Requirement already satisfied: pyerfa>=2.0 in /usr/local/lib/python3.9/dist-packages (from astropy) (2.0.0.3)\n",
            "Requirement already satisfied: tqdm<5.0.0,>=4.64.1 in /usr/local/lib/python3.9/dist-packages (from pzflow) (4.65.0)\n",
            "Collecting dill<0.4.0,>=0.3.6\n",
            "  Downloading dill-0.3.6-py3-none-any.whl (110 kB)\n",
            "\u001b[2K     \u001b[90m━━━━━━━━━━━━━━━━━━━━━━━━━━━━━━━━━━━━━\u001b[0m \u001b[32m110.5/110.5 KB\u001b[0m \u001b[31m501.5 kB/s\u001b[0m eta \u001b[36m0:00:00\u001b[0m\n",
            "\u001b[?25hRequirement already satisfied: jaxlib<0.5.0,>=0.4.2 in /usr/local/lib/python3.9/dist-packages (from pzflow) (0.4.7+cuda11.cudnn86)\n",
            "Requirement already satisfied: pandas>=1.1 in /usr/local/lib/python3.9/dist-packages (from pzflow) (1.4.4)\n",
            "Requirement already satisfied: jax<0.5.0,>=0.4.2 in /usr/local/lib/python3.9/dist-packages (from pzflow) (0.4.7)\n",
            "Requirement already satisfied: optax<0.2.0,>=0.1.4 in /usr/local/lib/python3.9/dist-packages (from pzflow) (0.1.4)\n",
            "Requirement already satisfied: matplotlib>=2.1 in /usr/local/lib/python3.9/dist-packages (from corner) (3.7.1)\n",
            "Requirement already satisfied: scipy>=1.7 in /usr/local/lib/python3.9/dist-packages (from jax<0.5.0,>=0.4.2->pzflow) (1.10.1)\n",
            "Requirement already satisfied: ml-dtypes>=0.0.3 in /usr/local/lib/python3.9/dist-packages (from jax<0.5.0,>=0.4.2->pzflow) (0.0.4)\n",
            "Requirement already satisfied: opt-einsum in /usr/local/lib/python3.9/dist-packages (from jax<0.5.0,>=0.4.2->pzflow) (3.3.0)\n",
            "Requirement already satisfied: contourpy>=1.0.1 in /usr/local/lib/python3.9/dist-packages (from matplotlib>=2.1->corner) (1.0.7)\n",
            "Requirement already satisfied: pillow>=6.2.0 in /usr/local/lib/python3.9/dist-packages (from matplotlib>=2.1->corner) (8.4.0)\n",
            "Requirement already satisfied: importlib-resources>=3.2.0 in /usr/local/lib/python3.9/dist-packages (from matplotlib>=2.1->corner) (5.12.0)\n",
            "Requirement already satisfied: cycler>=0.10 in /usr/local/lib/python3.9/dist-packages (from matplotlib>=2.1->corner) (0.11.0)\n",
            "Requirement already satisfied: pyparsing>=2.3.1 in /usr/local/lib/python3.9/dist-packages (from matplotlib>=2.1->corner) (3.0.9)\n",
            "Requirement already satisfied: python-dateutil>=2.7 in /usr/local/lib/python3.9/dist-packages (from matplotlib>=2.1->corner) (2.8.2)\n",
            "Requirement already satisfied: kiwisolver>=1.0.1 in /usr/local/lib/python3.9/dist-packages (from matplotlib>=2.1->corner) (1.4.4)\n",
            "Requirement already satisfied: fonttools>=4.22.0 in /usr/local/lib/python3.9/dist-packages (from matplotlib>=2.1->corner) (4.39.2)\n",
            "Requirement already satisfied: typing-extensions>=3.10.0 in /usr/local/lib/python3.9/dist-packages (from optax<0.2.0,>=0.1.4->pzflow) (4.5.0)\n",
            "Requirement already satisfied: chex>=0.1.5 in /usr/local/lib/python3.9/dist-packages (from optax<0.2.0,>=0.1.4->pzflow) (0.1.7)\n",
            "Requirement already satisfied: absl-py>=0.7.1 in /usr/local/lib/python3.9/dist-packages (from optax<0.2.0,>=0.1.4->pzflow) (1.4.0)\n",
            "Requirement already satisfied: pytz>=2020.1 in /usr/local/lib/python3.9/dist-packages (from pandas>=1.1->pzflow) (2022.7.1)\n",
            "Requirement already satisfied: toolz>=0.9.0 in /usr/local/lib/python3.9/dist-packages (from chex>=0.1.5->optax<0.2.0,>=0.1.4->pzflow) (0.12.0)\n",
            "Requirement already satisfied: dm-tree>=0.1.5 in /usr/local/lib/python3.9/dist-packages (from chex>=0.1.5->optax<0.2.0,>=0.1.4->pzflow) (0.1.8)\n",
            "Requirement already satisfied: zipp>=3.1.0 in /usr/local/lib/python3.9/dist-packages (from importlib-resources>=3.2.0->matplotlib>=2.1->corner) (3.15.0)\n",
            "Requirement already satisfied: six>=1.5 in /usr/local/lib/python3.9/dist-packages (from python-dateutil>=2.7->matplotlib>=2.1->corner) (1.16.0)\n",
            "Installing collected packages: dill, corner, pzflow\n",
            "Successfully installed corner-2.2.1 dill-0.3.6 pzflow-3.0.3\n"
          ]
        }
      ],
      "source": [
        "# install required libraries\n",
        "\n",
        "!pip install --upgrade \"jax[cuda]\" -f https://storage.googleapis.com/jax-releases/jax_cuda_releases.html\n",
        "!pip install astropy pzflow corner"
      ]
    },
    {
      "cell_type": "code",
      "source": [
        "# import statements\n",
        "\n",
        "from pzflow import Flow\n",
        "import jax.numpy as jnp\n",
        "import pandas as pd \n",
        "import numpy as np\n",
        "import pickle\n",
        "import corner\n",
        "import matplotlib.pyplot as plt\n",
        "import os\n",
        "from astropy.table import Table\n",
        "from pzflow import Flow, FlowEnsemble\n",
        "from pzflow.distributions import Uniform\n",
        "from pzflow.bijectors import Chain, StandardScaler, NeuralSplineCoupling, ColorTransform, InvSoftplus, RollingSplineCoupling, ShiftBounds\n",
        "from collections import namedtuple"
      ],
      "metadata": {
        "id": "cjMKwoiyt9q7",
        "collapsed": true
      },
      "execution_count": 48,
      "outputs": []
    },
    {
      "cell_type": "code",
      "source": [
        "# read in the data\n",
        "\n",
        "!wget --quiet -O dataset.tar https://drive.google.com/u/0/uc?id=1t9_3GqjFGhpgdjiww6vlmijS-3rgVaC0&export=download\n",
        "!tar -xf dataset.tar\n",
        "!mv for_francois dataset"
      ],
      "metadata": {
        "id": "3_ACTufIuHak"
      },
      "execution_count": 3,
      "outputs": []
    },
    {
      "cell_type": "code",
      "source": [
        "ls dataset/for_francois/"
      ],
      "metadata": {
        "colab": {
          "base_uri": "https://localhost:8080/"
        },
        "id": "5WxH4pS1v2Xd",
        "outputId": "4deda416-8659-40b9-fd4f-c0687991a614"
      },
      "execution_count": 4,
      "outputs": [
        {
          "output_type": "stream",
          "name": "stdout",
          "text": [
            "\u001b[0m\u001b[01;34mbaseline_v1.4_10yrs\u001b[0m/  statplot_fout.png              \u001b[01;34mvar_expt_v1.4_10yrs\u001b[0m/\n",
            "README.txt            statplot_stdd.png              \u001b[01;34mweather_1.2_v1.4_10yrs\u001b[0m/\n",
            "statplot_bias.png     \u001b[01;34mtwilight_neo_mod1_v1.4_10yrs\u001b[0m/\n"
          ]
        }
      ]
    },
    {
      "cell_type": "code",
      "source": [
        "from google.colab import drive\n",
        "drive.mount('/content/drive')\n",
        "prepend = '/content/drive/MyDrive/Research/RubinPz/'"
      ],
      "metadata": {
        "id": "6_F-vU24h1di",
        "outputId": "68c50617-083a-46fb-a53f-f91bda9a2685",
        "colab": {
          "base_uri": "https://localhost:8080/"
        }
      },
      "execution_count": 4,
      "outputs": [
        {
          "output_type": "stream",
          "name": "stdout",
          "text": [
            "Mounted at /content/drive\n"
          ]
        }
      ]
    },
    {
      "cell_type": "code",
      "source": [
        "data_dir = '/content/drive/MyDrive/Research/RubinPz/TLMdata/'"
      ],
      "metadata": {
        "id": "gVSYnbnniXOS"
      },
      "execution_count": 49,
      "outputs": []
    },
    {
      "cell_type": "code",
      "source": [
        "all_readme = open(os.path.join(data_dir,'readme.txt')).read().split('\\n')\n",
        "in_metadata = [] \n",
        "\n",
        "colors = [\"k\", \"plum\", \"cornflowerblue\", \"#2ca02c\", \"gold\", \"tomato\"]\n",
        "\n",
        "for i, line in enumerate(all_readme[0:6]):\n",
        "  descr = all_readme[i+1].split()\n",
        "  in_metadata.append(descr)\n",
        "\n",
        "  metadatum = namedtuple('metadatum', ['runid', 'OpSimName', 'u', 'g', 'r', 'i', 'z', 'y'])\n",
        "\n",
        "  metadata = {}\n",
        "  for row in in_metadata:\n",
        "    metadata[row[0]] = metadatum(*row)\n",
        "\n",
        "  names_z=('ID', 'z_true', 'z_phot', 'dz_phot', 'NN', 'N_train')\n",
        "  names_phot=('ID', 'z_true',\n",
        "    'u', 'err_u', 'g', 'err_g', 'r', 'err_r', 'i', 'err_i', 'z', 'err_z', 'y', 'err_y',\n",
        "    'u-g', 'err_u-g', 'g-r', 'err_g-r', 'r-i', 'err_r-i', 'i-z', 'err_i-z', 'z-y', 'err_z-y')\n",
        "\n",
        "  available_os = list(metadata.keys())\n",
        "  names = [metadata[runid].OpSimName for runid in available_os]\n",
        "  os_names = dict(zip(available_os, names))\n",
        "  os_colors = dict(zip(available_os, colors))"
      ],
      "metadata": {
        "id": "I_qit4EjdkHb"
      },
      "execution_count": 50,
      "outputs": []
    },
    {
      "cell_type": "code",
      "source": [
        "print(available_os)\n",
        "print(names)"
      ],
      "metadata": {
        "id": "8QIa6nOzmVjb",
        "outputId": "57b1cae6-101e-413e-8fe6-09cb56c4bcee",
        "colab": {
          "base_uri": "https://localhost:8080/"
        }
      },
      "execution_count": 51,
      "outputs": [
        {
          "output_type": "stream",
          "name": "stdout",
          "text": [
            "['1_4_y10', '4_38_y10', '10_92_y10', '4_34_y10', '7_61_y10', '9_86_y10']\n",
            "['baseline_v1_5_10yrs', 'footprint_stuck_rollingv1_5_10yrs', 'ddf_heavy_nexp2_v1_6_10yrs', 'footprint_newAv1_5_10yrs', 'third_obs_pt60v1_5_10yrs', 'barebones_v1_6_10yrs']\n"
          ]
        }
      ]
    },
    {
      "cell_type": "code",
      "source": [
        "names_z=('ID', 'z_true', 'z_phot', 'dz_phot', 'NN', 'N_train')\n",
        "names_phot=('ID', 'z_true', \n",
        "        'u', 'g', 'r', 'i', 'z', 'y', \n",
        "        'err_u', 'err_g', 'err_r', 'err_i', 'err_z', 'err_y', \n",
        "        'u-g', 'g-r', 'r-i', 'i-z', 'z-y',\n",
        "        'err_u-g', 'err_g-r', 'err_r-i', 'err_i-z', 'err_z-y')\n",
        "\n",
        "\n",
        "#available_os = ['baseline_v1.4_10yrs', 'twilight_neo_mod1_v1.4_10yrs', 'var_expt_v1.4_10yrs', 'weather_1.2_v1.4_10yrs']\n",
        "#os_colors = {'baseline_v1.4_10yrs': 'k', 'twilight_neo_mod1_v1.4_10yrs': '#2ca02c', 'var_expt_v1.4_10yrs': '#1f77b4', 'weather_1.2_v1.4_10yrs': '#ff7f0e'}\n",
        "\n",
        "     "
      ],
      "metadata": {
        "id": "GeXHGmjKuOoJ"
      },
      "execution_count": 52,
      "outputs": []
    },
    {
      "cell_type": "code",
      "source": [
        "ls /content/drive/MyDrive/Research/RubinPz/TLMdata/run_4_38_y10"
      ],
      "metadata": {
        "id": "92LtDTI4rbnU",
        "outputId": "4105875e-328b-4327-d6fb-8b19eea07b7f",
        "colab": {
          "base_uri": "https://localhost:8080/"
        }
      },
      "execution_count": 72,
      "outputs": [
        {
          "output_type": "stream",
          "name": "stdout",
          "text": [
            "test.cat  zphot.cat\n"
          ]
        }
      ]
    },
    {
      "cell_type": "code",
      "source": [
        "available_os"
      ],
      "metadata": {
        "id": "OXYYuBTvsh1G",
        "outputId": "11c98852-dd45-4a13-b469-975b75a52058",
        "colab": {
          "base_uri": "https://localhost:8080/"
        }
      },
      "execution_count": 73,
      "outputs": [
        {
          "output_type": "execute_result",
          "data": {
            "text/plain": [
              "['1_4_y10', '4_38_y10', '10_92_y10', '4_34_y10', '7_61_y10', '9_86_y10']"
            ]
          },
          "metadata": {},
          "execution_count": 73
        }
      ]
    },
    {
      "cell_type": "code",
      "source": [
        "names"
      ],
      "metadata": {
        "id": "9br05V1SspNR",
        "outputId": "5c69c217-c41c-4bfb-c691-f0f7f8d60bae",
        "colab": {
          "base_uri": "https://localhost:8080/"
        }
      },
      "execution_count": 68,
      "outputs": [
        {
          "output_type": "execute_result",
          "data": {
            "text/plain": [
              "['baseline_v1_5_10yrs',\n",
              " 'footprint_stuck_rollingv1_5_10yrs',\n",
              " 'ddf_heavy_nexp2_v1_6_10yrs',\n",
              " 'footprint_newAv1_5_10yrs',\n",
              " 'third_obs_pt60v1_5_10yrs',\n",
              " 'barebones_v1_6_10yrs']"
            ]
          },
          "metadata": {},
          "execution_count": 68
        }
      ]
    },
    {
      "cell_type": "code",
      "source": [],
      "metadata": {
        "id": "VIuMZ5JZs_6B"
      },
      "execution_count": null,
      "outputs": []
    },
    {
      "cell_type": "code",
      "source": [
        "phot_cats, z_cats = {}, {}\n",
        "\n",
        "for name, which_os in zip(names, available_os):\n",
        "  test_cat = Table.read(data_dir+'run_'+which_os+'/test.cat', format='ascii')\n",
        "\n",
        "\n",
        "  z_cat = Table.read(data_dir+'run_'+which_os+'/zphot.cat', \n",
        "                       format='ascii', \n",
        "                       names=names_z)\n",
        "\n",
        "  phot_cat = Table.read(data_dir+'run_'+which_os+'/test.cat', \n",
        "                       format='ascii', \n",
        "                       names=names_phot)\n",
        "  phot_cat = Table.from_pandas(phot_cat.to_pandas().dropna())\n",
        "  phot_cats[which_os] = phot_cat\n",
        "  print('phot: ')\n",
        "  print(len(phot_cats[which_os]))\n",
        "  z_cats[which_os] = z_cat\n",
        "  print('z: ')\n",
        "  print(len(z_cats[which_os]))"
      ],
      "metadata": {
        "id": "Huy8pnD3zAFq",
        "colab": {
          "base_uri": "https://localhost:8080/"
        },
        "outputId": "00c5c355-5b05-494d-a7ca-574edd88612f"
      },
      "execution_count": 74,
      "outputs": [
        {
          "output_type": "stream",
          "name": "stdout",
          "text": [
            "phot: \n",
            "50000\n",
            "z: \n",
            "50000\n",
            "phot: \n",
            "50000\n",
            "z: \n",
            "50000\n",
            "phot: \n",
            "50000\n",
            "z: \n",
            "50000\n",
            "phot: \n",
            "50000\n",
            "z: \n",
            "50000\n",
            "phot: \n",
            "50000\n",
            "z: \n",
            "50000\n",
            "phot: \n",
            "50000\n",
            "z: \n",
            "50000\n"
          ]
        }
      ]
    },
    {
      "cell_type": "code",
      "source": [
        "which_os"
      ],
      "metadata": {
        "id": "8QGBDhCKtq8B",
        "outputId": "e74c9017-18e5-4749-a772-5d85ea94f5db",
        "colab": {
          "base_uri": "https://localhost:8080/",
          "height": 37
        }
      },
      "execution_count": 77,
      "outputs": [
        {
          "output_type": "execute_result",
          "data": {
            "text/plain": [
              "'9_86_y10'"
            ],
            "application/vnd.google.colaboratory.intrinsic+json": {
              "type": "string"
            }
          },
          "metadata": {},
          "execution_count": 77
        }
      ]
    },
    {
      "cell_type": "code",
      "source": [
        "phot_cats[which_os]"
      ],
      "metadata": {
        "colab": {
          "base_uri": "https://localhost:8080/",
          "height": 539
        },
        "id": "rVUYIhsGNXPr",
        "outputId": "f044d903-0d02-4543-9def-e6590ad2eec8"
      },
      "execution_count": 76,
      "outputs": [
        {
          "output_type": "execute_result",
          "data": {
            "text/plain": [
              "<Table length=50000>\n",
              "   ID      z_true       u        g     ...  err_g-r  err_r-i  err_i-z  err_z-y \n",
              " int64    float64    float64  float64  ...  float64  float64  float64  float64 \n",
              "-------- ---------- --------- -------- ... --------- -------- -------- --------\n",
              " 5901315 0.16834128 20.628696    0.005 ...   0.11304 0.007071 0.047479 0.007071\n",
              " 1151331  0.9674438  24.42383 0.054462 ...  0.632963 0.013079 0.129225 0.017597\n",
              "12252497  1.2806695 24.661739 0.064666 ...  0.731167 0.027338 0.379372 0.031748\n",
              " 3597887 0.45177186 22.011683 0.009958 ...  0.160453 0.007071 0.047375 0.007071\n",
              " 9305575 0.85668314 23.940226 0.034099 ...  0.187457 0.017509 0.006734 0.030682\n",
              " 6925867  0.7054503 24.509896 0.056894 ... -0.008722 0.032574 0.038484 0.061945\n",
              " 4659644  1.1382225 23.957348 0.035298 ...  0.762158 0.024656 0.072624 0.035567\n",
              "12393128   0.666667 23.839893 0.032585 ...  0.110314 0.012999 0.106499 0.022332\n",
              " 9550995 0.71089447 22.952541 0.017698 ...  0.171709 0.007071   0.0696 0.008277\n",
              "12033285  1.1382182 24.430158 0.050145 ...  0.638117 0.039661 0.130313 0.060469\n",
              "     ...        ...       ...      ... ...       ...      ...      ...      ...\n",
              " 1510413  1.4030619  24.57298 0.057603 ...  0.462937 0.052091 0.380358 0.069479\n",
              " 7236450 0.10234618 24.102359 0.039774 ...  0.020445 0.016168  0.01545 0.029558\n",
              "13234907  1.4260423 23.680674 0.028772 ...   0.26022 0.029833 0.377842 0.042347\n",
              " 4751573  0.1980052 23.284862  0.02295 ...   0.06782 0.007688   0.0173 0.012687\n",
              " 8593253 0.32009923 23.334663 0.022795 ...  0.077449 0.007097 0.057606 0.010764\n",
              " 4162010  1.0846951 24.450536 0.051076 ...  0.719065 0.029913 0.114793 0.043213\n",
              " 1020255  1.5755811 24.152853 0.043392 ...  0.207858 0.046111 0.109354  0.07176\n",
              " 2748333  0.6948291 24.338858 0.051122 ...   0.19728 0.016391 0.067065 0.027377\n",
              "14066889  1.4532881 24.837252 0.072709 ...  0.355779 0.052547 0.443887 0.069291\n",
              "12106744 0.08957589 23.964188 0.036294 ...  0.030673 0.014415 0.022883 0.026074"
            ],
            "text/html": [
              "<div><i>Table length=50000</i>\n",
              "<table id=\"table140660088812880\" class=\"table-striped table-bordered table-condensed\">\n",
              "<thead><tr><th>ID</th><th>z_true</th><th>u</th><th>g</th><th>r</th><th>i</th><th>z</th><th>y</th><th>err_u</th><th>err_g</th><th>err_r</th><th>err_i</th><th>err_z</th><th>err_y</th><th>u-g</th><th>g-r</th><th>r-i</th><th>i-z</th><th>z-y</th><th>err_u-g</th><th>err_g-r</th><th>err_r-i</th><th>err_i-z</th><th>err_z-y</th></tr></thead>\n",
              "<thead><tr><th>int64</th><th>float64</th><th>float64</th><th>float64</th><th>float64</th><th>float64</th><th>float64</th><th>float64</th><th>float64</th><th>float64</th><th>float64</th><th>float64</th><th>float64</th><th>float64</th><th>float64</th><th>float64</th><th>float64</th><th>float64</th><th>float64</th><th>float64</th><th>float64</th><th>float64</th><th>float64</th><th>float64</th></tr></thead>\n",
              "<tr><td>5901315</td><td>0.16834128</td><td>20.628696</td><td>0.005</td><td>19.749174</td><td>0.005</td><td>19.248232</td><td>0.005</td><td>19.083636</td><td>0.005</td><td>18.970596</td><td>0.005</td><td>18.923118</td><td>0.005</td><td>0.879523</td><td>0.007071</td><td>0.500941</td><td>0.007071</td><td>0.164596</td><td>0.007071</td><td>0.11304</td><td>0.007071</td><td>0.047479</td><td>0.007071</td></tr>\n",
              "<tr><td>1151331</td><td>0.9674438</td><td>24.42383</td><td>0.054462</td><td>24.342691</td><td>0.019501</td><td>23.800588</td><td>0.011951</td><td>23.010845</td><td>0.009764</td><td>22.377882</td><td>0.008701</td><td>22.248657</td><td>0.015295</td><td>0.081139</td><td>0.057848</td><td>0.542103</td><td>0.022872</td><td>0.789742</td><td>0.015432</td><td>0.632963</td><td>0.013079</td><td>0.129225</td><td>0.017597</td></tr>\n",
              "<tr><td>12252497</td><td>1.2806695</td><td>24.661739</td><td>0.064666</td><td>24.950809</td><td>0.030086</td><td>24.491336</td><td>0.020555</td><td>23.92585</td><td>0.020136</td><td>23.194683</td><td>0.018491</td><td>22.815311</td><td>0.025808</td><td>-0.28907</td><td>0.071323</td><td>0.459474</td><td>0.036437</td><td>0.565485</td><td>0.028774</td><td>0.731167</td><td>0.027338</td><td>0.379372</td><td>0.031748</td></tr>\n",
              "<tr><td>3597887</td><td>0.45177186</td><td>22.011683</td><td>0.009958</td><td>21.672854</td><td>0.005</td><td>20.694732</td><td>0.005</td><td>20.458205</td><td>0.005</td><td>20.297752</td><td>0.005</td><td>20.250378</td><td>0.005</td><td>0.338829</td><td>0.011143</td><td>0.978122</td><td>0.007071</td><td>0.236527</td><td>0.007071</td><td>0.160453</td><td>0.007071</td><td>0.047375</td><td>0.007071</td></tr>\n",
              "<tr><td>9305575</td><td>0.85668314</td><td>23.940226</td><td>0.034099</td><td>23.918341</td><td>0.014428</td><td>23.767213</td><td>0.011776</td><td>23.095266</td><td>0.010343</td><td>22.907809</td><td>0.014127</td><td>22.901075</td><td>0.027236</td><td>0.021885</td><td>0.037026</td><td>0.151128</td><td>0.018624</td><td>0.671947</td><td>0.015673</td><td>0.187457</td><td>0.017509</td><td>0.006734</td><td>0.030682</td></tr>\n",
              "<tr><td>6925867</td><td>0.7054503</td><td>24.509896</td><td>0.056894</td><td>24.5146</td><td>0.022602</td><td>24.227738</td><td>0.016934</td><td>23.682591</td><td>0.016134</td><td>23.691313</td><td>0.028298</td><td>23.652829</td><td>0.055103</td><td>-0.004704</td><td>0.061219</td><td>0.286863</td><td>0.028242</td><td>0.545147</td><td>0.023389</td><td>-0.008722</td><td>0.032574</td><td>0.038484</td><td>0.061945</td></tr>\n",
              "<tr><td>4659644</td><td>1.1382225</td><td>23.957348</td><td>0.035298</td><td>24.073371</td><td>0.015717</td><td>23.97845</td><td>0.013656</td><td>23.831403</td><td>0.017639</td><td>23.069245</td><td>0.017228</td><td>22.996621</td><td>0.031116</td><td>-0.116023</td><td>0.038639</td><td>0.094921</td><td>0.020821</td><td>0.147047</td><td>0.022308</td><td>0.762158</td><td>0.024656</td><td>0.072624</td><td>0.035567</td></tr>\n",
              "<tr><td>12393128</td><td>0.666667</td><td>23.839893</td><td>0.032585</td><td>23.726984</td><td>0.012653</td><td>23.249585</td><td>0.007957</td><td>22.692187</td><td>0.007661</td><td>22.581873</td><td>0.010501</td><td>22.475374</td><td>0.019709</td><td>0.112908</td><td>0.034956</td><td>0.477399</td><td>0.014947</td><td>0.557399</td><td>0.011046</td><td>0.110314</td><td>0.012999</td><td>0.106499</td><td>0.022332</td></tr>\n",
              "<tr><td>9550995</td><td>0.71089447</td><td>22.952541</td><td>0.017698</td><td>22.796071</td><td>0.007062</td><td>22.294075</td><td>0.005</td><td>21.591849</td><td>0.005</td><td>21.42014</td><td>0.005</td><td>21.35054</td><td>0.006596</td><td>0.15647</td><td>0.019055</td><td>0.501997</td><td>0.008653</td><td>0.702226</td><td>0.007071</td><td>0.171709</td><td>0.007071</td><td>0.0696</td><td>0.008277</td></tr>\n",
              "<tr><td>12033285</td><td>1.1382182</td><td>24.430158</td><td>0.050145</td><td>24.47556</td><td>0.021873</td><td>24.456702</td><td>0.020208</td><td>24.353507</td><td>0.027199</td><td>23.715391</td><td>0.028866</td><td>23.585077</td><td>0.053134</td><td>-0.045402</td><td>0.054708</td><td>0.018858</td><td>0.029779</td><td>0.103194</td><td>0.033884</td><td>0.638117</td><td>0.039661</td><td>0.130313</td><td>0.060469</td></tr>\n",
              "<tr><td>...</td><td>...</td><td>...</td><td>...</td><td>...</td><td>...</td><td>...</td><td>...</td><td>...</td><td>...</td><td>...</td><td>...</td><td>...</td><td>...</td><td>...</td><td>...</td><td>...</td><td>...</td><td>...</td><td>...</td><td>...</td><td>...</td><td>...</td><td>...</td></tr>\n",
              "<tr><td>1510413</td><td>1.4030619</td><td>24.57298</td><td>0.057603</td><td>24.529264</td><td>0.023084</td><td>24.606871</td><td>0.022922</td><td>24.469562</td><td>0.031198</td><td>24.006625</td><td>0.041716</td><td>23.626267</td><td>0.055561</td><td>0.043716</td><td>0.062056</td><td>-0.077607</td><td>0.032531</td><td>0.137309</td><td>0.038714</td><td>0.462937</td><td>0.052091</td><td>0.380358</td><td>0.069479</td></tr>\n",
              "<tr><td>7236450</td><td>0.10234618</td><td>24.102359</td><td>0.039774</td><td>23.167846</td><td>0.008891</td><td>22.947665</td><td>0.006465</td><td>22.893921</td><td>0.008831</td><td>22.873476</td><td>0.013543</td><td>22.858026</td><td>0.026273</td><td>0.934514</td><td>0.040756</td><td>0.220181</td><td>0.010993</td><td>0.053744</td><td>0.010945</td><td>0.020445</td><td>0.016168</td><td>0.01545</td><td>0.029558</td></tr>\n",
              "<tr><td>13234907</td><td>1.4260423</td><td>23.680674</td><td>0.028772</td><td>23.848765</td><td>0.013564</td><td>23.876698</td><td>0.012847</td><td>23.779795</td><td>0.0174</td><td>23.519576</td><td>0.024234</td><td>23.141734</td><td>0.034727</td><td>-0.168091</td><td>0.031809</td><td>-0.027932</td><td>0.018682</td><td>0.096902</td><td>0.021629</td><td>0.26022</td><td>0.029833</td><td>0.377842</td><td>0.042347</td></tr>\n",
              "<tr><td>4751573</td><td>0.1980052</td><td>23.284862</td><td>0.02295</td><td>22.543832</td><td>0.00613</td><td>22.098169</td><td>0.005</td><td>22.011794</td><td>0.005</td><td>21.943975</td><td>0.00584</td><td>21.926674</td><td>0.011264</td><td>0.74103</td><td>0.023754</td><td>0.445664</td><td>0.00791</td><td>0.086374</td><td>0.007071</td><td>0.06782</td><td>0.007688</td><td>0.0173</td><td>0.012687</td></tr>\n",
              "<tr><td>8593253</td><td>0.32009923</td><td>23.334663</td><td>0.022795</td><td>22.79368</td><td>0.00702</td><td>22.016486</td><td>0.005</td><td>21.871684</td><td>0.005</td><td>21.794235</td><td>0.005037</td><td>21.736629</td><td>0.009513</td><td>0.540983</td><td>0.023851</td><td>0.777194</td><td>0.008619</td><td>0.144802</td><td>0.007071</td><td>0.077449</td><td>0.007097</td><td>0.057606</td><td>0.010764</td></tr>\n",
              "<tr><td>4162010</td><td>1.0846951</td><td>24.450536</td><td>0.051076</td><td>24.440825</td><td>0.021057</td><td>24.322442</td><td>0.018328</td><td>24.048045</td><td>0.02121</td><td>23.32898</td><td>0.021093</td><td>23.214187</td><td>0.037715</td><td>0.009711</td><td>0.055246</td><td>0.118383</td><td>0.027916</td><td>0.274397</td><td>0.028032</td><td>0.719065</td><td>0.029913</td><td>0.114793</td><td>0.043213</td></tr>\n",
              "<tr><td>1020255</td><td>1.5755811</td><td>24.152853</td><td>0.043392</td><td>24.178892</td><td>0.017447</td><td>24.372301</td><td>0.018948</td><td>24.198853</td><td>0.024798</td><td>23.990996</td><td>0.038876</td><td>23.881642</td><td>0.060317</td><td>-0.02604</td><td>0.046768</td><td>-0.193409</td><td>0.025757</td><td>0.173448</td><td>0.031208</td><td>0.207858</td><td>0.046111</td><td>0.109354</td><td>0.07176</td></tr>\n",
              "<tr><td>2748333</td><td>0.6948291</td><td>24.338858</td><td>0.051122</td><td>24.257814</td><td>0.018499</td><td>23.730521</td><td>0.011335</td><td>23.022954</td><td>0.009717</td><td>22.825674</td><td>0.0132</td><td>22.758608</td><td>0.023984</td><td>0.081044</td><td>0.054366</td><td>0.527293</td><td>0.021695</td><td>0.707567</td><td>0.01493</td><td>0.19728</td><td>0.016391</td><td>0.067065</td><td>0.027377</td></tr>\n",
              "<tr><td>14066889</td><td>1.4532881</td><td>24.837252</td><td>0.072709</td><td>24.876935</td><td>0.029405</td><td>24.854333</td><td>0.028223</td><td>24.443994</td><td>0.032368</td><td>24.088215</td><td>0.041394</td><td>23.644328</td><td>0.055567</td><td>-0.039683</td><td>0.07843</td><td>0.022602</td><td>0.040758</td><td>0.410339</td><td>0.042945</td><td>0.355779</td><td>0.052547</td><td>0.443887</td><td>0.069291</td></tr>\n",
              "<tr><td>12106744</td><td>0.08957589</td><td>23.964188</td><td>0.036294</td><td>23.030443</td><td>0.008171</td><td>22.815055</td><td>0.005929</td><td>22.752379</td><td>0.008034</td><td>22.721706</td><td>0.011968</td><td>22.698824</td><td>0.023165</td><td>0.933745</td><td>0.037202</td><td>0.215388</td><td>0.010095</td><td>0.062675</td><td>0.009985</td><td>0.030673</td><td>0.014415</td><td>0.022883</td><td>0.026074</td></tr>\n",
              "</table></div>"
            ]
          },
          "metadata": {},
          "execution_count": 76
        }
      ]
    },
    {
      "cell_type": "code",
      "source": [
        "#IDS = phot_cats[available_os[1]]['ID']"
      ],
      "metadata": {
        "id": "fLYCAu31RxKm"
      },
      "execution_count": 22,
      "outputs": []
    },
    {
      "cell_type": "code",
      "source": [
        "#IDS = phot_cats[available_os[1]]['ID']\n",
        "\n",
        "#z_cats[available_os[1]].to_pandas()[z_cats[available_os[1]].to_pandas()['ID'].isin(IDS)]"
      ],
      "metadata": {
        "colab": {
          "base_uri": "https://localhost:8080/",
          "height": 419
        },
        "id": "nhNSpp6FRoIa",
        "outputId": "25a32421-65ac-46b5-9e8d-906e699a6ab4"
      },
      "execution_count": 26,
      "outputs": [
        {
          "output_type": "execute_result",
          "data": {
            "text/plain": [
              "             ID    z_true    z_phot   dz_phot     NN  N_train\n",
              "0       1198255  0.811061  0.792757  0.021096    306   121600\n",
              "1       8087855  0.266076  0.266076  0.008419     10   117907\n",
              "2      13374390  1.330510  1.621435  0.129724   4915   123739\n",
              "4      13154811  1.705116  1.771119  0.108593   3642   101655\n",
              "5       5401341  1.118003  1.255187  0.067334   1445   142896\n",
              "...         ...       ...       ...       ...    ...      ...\n",
              "49995   6459114  1.465331  1.607332  0.156788  13021   145722\n",
              "49996  10609198  1.720646  1.680949  0.059244    548    33582\n",
              "49997   1933684  0.125767  2.267096  1.189166   2498   109786\n",
              "49998  13516144  1.412769  1.393957  0.080412    215   161753\n",
              "49999  12702519  0.953526  0.920100  0.014414     10    15519\n",
              "\n",
              "[45920 rows x 6 columns]"
            ],
            "text/html": [
              "\n",
              "  <div id=\"df-61abbed8-7b37-40ca-9c82-daec291a8878\">\n",
              "    <div class=\"colab-df-container\">\n",
              "      <div>\n",
              "<style scoped>\n",
              "    .dataframe tbody tr th:only-of-type {\n",
              "        vertical-align: middle;\n",
              "    }\n",
              "\n",
              "    .dataframe tbody tr th {\n",
              "        vertical-align: top;\n",
              "    }\n",
              "\n",
              "    .dataframe thead th {\n",
              "        text-align: right;\n",
              "    }\n",
              "</style>\n",
              "<table border=\"1\" class=\"dataframe\">\n",
              "  <thead>\n",
              "    <tr style=\"text-align: right;\">\n",
              "      <th></th>\n",
              "      <th>ID</th>\n",
              "      <th>z_true</th>\n",
              "      <th>z_phot</th>\n",
              "      <th>dz_phot</th>\n",
              "      <th>NN</th>\n",
              "      <th>N_train</th>\n",
              "    </tr>\n",
              "  </thead>\n",
              "  <tbody>\n",
              "    <tr>\n",
              "      <th>0</th>\n",
              "      <td>1198255</td>\n",
              "      <td>0.811061</td>\n",
              "      <td>0.792757</td>\n",
              "      <td>0.021096</td>\n",
              "      <td>306</td>\n",
              "      <td>121600</td>\n",
              "    </tr>\n",
              "    <tr>\n",
              "      <th>1</th>\n",
              "      <td>8087855</td>\n",
              "      <td>0.266076</td>\n",
              "      <td>0.266076</td>\n",
              "      <td>0.008419</td>\n",
              "      <td>10</td>\n",
              "      <td>117907</td>\n",
              "    </tr>\n",
              "    <tr>\n",
              "      <th>2</th>\n",
              "      <td>13374390</td>\n",
              "      <td>1.330510</td>\n",
              "      <td>1.621435</td>\n",
              "      <td>0.129724</td>\n",
              "      <td>4915</td>\n",
              "      <td>123739</td>\n",
              "    </tr>\n",
              "    <tr>\n",
              "      <th>4</th>\n",
              "      <td>13154811</td>\n",
              "      <td>1.705116</td>\n",
              "      <td>1.771119</td>\n",
              "      <td>0.108593</td>\n",
              "      <td>3642</td>\n",
              "      <td>101655</td>\n",
              "    </tr>\n",
              "    <tr>\n",
              "      <th>5</th>\n",
              "      <td>5401341</td>\n",
              "      <td>1.118003</td>\n",
              "      <td>1.255187</td>\n",
              "      <td>0.067334</td>\n",
              "      <td>1445</td>\n",
              "      <td>142896</td>\n",
              "    </tr>\n",
              "    <tr>\n",
              "      <th>...</th>\n",
              "      <td>...</td>\n",
              "      <td>...</td>\n",
              "      <td>...</td>\n",
              "      <td>...</td>\n",
              "      <td>...</td>\n",
              "      <td>...</td>\n",
              "    </tr>\n",
              "    <tr>\n",
              "      <th>49995</th>\n",
              "      <td>6459114</td>\n",
              "      <td>1.465331</td>\n",
              "      <td>1.607332</td>\n",
              "      <td>0.156788</td>\n",
              "      <td>13021</td>\n",
              "      <td>145722</td>\n",
              "    </tr>\n",
              "    <tr>\n",
              "      <th>49996</th>\n",
              "      <td>10609198</td>\n",
              "      <td>1.720646</td>\n",
              "      <td>1.680949</td>\n",
              "      <td>0.059244</td>\n",
              "      <td>548</td>\n",
              "      <td>33582</td>\n",
              "    </tr>\n",
              "    <tr>\n",
              "      <th>49997</th>\n",
              "      <td>1933684</td>\n",
              "      <td>0.125767</td>\n",
              "      <td>2.267096</td>\n",
              "      <td>1.189166</td>\n",
              "      <td>2498</td>\n",
              "      <td>109786</td>\n",
              "    </tr>\n",
              "    <tr>\n",
              "      <th>49998</th>\n",
              "      <td>13516144</td>\n",
              "      <td>1.412769</td>\n",
              "      <td>1.393957</td>\n",
              "      <td>0.080412</td>\n",
              "      <td>215</td>\n",
              "      <td>161753</td>\n",
              "    </tr>\n",
              "    <tr>\n",
              "      <th>49999</th>\n",
              "      <td>12702519</td>\n",
              "      <td>0.953526</td>\n",
              "      <td>0.920100</td>\n",
              "      <td>0.014414</td>\n",
              "      <td>10</td>\n",
              "      <td>15519</td>\n",
              "    </tr>\n",
              "  </tbody>\n",
              "</table>\n",
              "<p>45920 rows × 6 columns</p>\n",
              "</div>\n",
              "      <button class=\"colab-df-convert\" onclick=\"convertToInteractive('df-61abbed8-7b37-40ca-9c82-daec291a8878')\"\n",
              "              title=\"Convert this dataframe to an interactive table.\"\n",
              "              style=\"display:none;\">\n",
              "        \n",
              "  <svg xmlns=\"http://www.w3.org/2000/svg\" height=\"24px\"viewBox=\"0 0 24 24\"\n",
              "       width=\"24px\">\n",
              "    <path d=\"M0 0h24v24H0V0z\" fill=\"none\"/>\n",
              "    <path d=\"M18.56 5.44l.94 2.06.94-2.06 2.06-.94-2.06-.94-.94-2.06-.94 2.06-2.06.94zm-11 1L8.5 8.5l.94-2.06 2.06-.94-2.06-.94L8.5 2.5l-.94 2.06-2.06.94zm10 10l.94 2.06.94-2.06 2.06-.94-2.06-.94-.94-2.06-.94 2.06-2.06.94z\"/><path d=\"M17.41 7.96l-1.37-1.37c-.4-.4-.92-.59-1.43-.59-.52 0-1.04.2-1.43.59L10.3 9.45l-7.72 7.72c-.78.78-.78 2.05 0 2.83L4 21.41c.39.39.9.59 1.41.59.51 0 1.02-.2 1.41-.59l7.78-7.78 2.81-2.81c.8-.78.8-2.07 0-2.86zM5.41 20L4 18.59l7.72-7.72 1.47 1.35L5.41 20z\"/>\n",
              "  </svg>\n",
              "      </button>\n",
              "      \n",
              "  <style>\n",
              "    .colab-df-container {\n",
              "      display:flex;\n",
              "      flex-wrap:wrap;\n",
              "      gap: 12px;\n",
              "    }\n",
              "\n",
              "    .colab-df-convert {\n",
              "      background-color: #E8F0FE;\n",
              "      border: none;\n",
              "      border-radius: 50%;\n",
              "      cursor: pointer;\n",
              "      display: none;\n",
              "      fill: #1967D2;\n",
              "      height: 32px;\n",
              "      padding: 0 0 0 0;\n",
              "      width: 32px;\n",
              "    }\n",
              "\n",
              "    .colab-df-convert:hover {\n",
              "      background-color: #E2EBFA;\n",
              "      box-shadow: 0px 1px 2px rgba(60, 64, 67, 0.3), 0px 1px 3px 1px rgba(60, 64, 67, 0.15);\n",
              "      fill: #174EA6;\n",
              "    }\n",
              "\n",
              "    [theme=dark] .colab-df-convert {\n",
              "      background-color: #3B4455;\n",
              "      fill: #D2E3FC;\n",
              "    }\n",
              "\n",
              "    [theme=dark] .colab-df-convert:hover {\n",
              "      background-color: #434B5C;\n",
              "      box-shadow: 0px 1px 3px 1px rgba(0, 0, 0, 0.15);\n",
              "      filter: drop-shadow(0px 1px 2px rgba(0, 0, 0, 0.3));\n",
              "      fill: #FFFFFF;\n",
              "    }\n",
              "  </style>\n",
              "\n",
              "      <script>\n",
              "        const buttonEl =\n",
              "          document.querySelector('#df-61abbed8-7b37-40ca-9c82-daec291a8878 button.colab-df-convert');\n",
              "        buttonEl.style.display =\n",
              "          google.colab.kernel.accessAllowed ? 'block' : 'none';\n",
              "\n",
              "        async function convertToInteractive(key) {\n",
              "          const element = document.querySelector('#df-61abbed8-7b37-40ca-9c82-daec291a8878');\n",
              "          const dataTable =\n",
              "            await google.colab.kernel.invokeFunction('convertToInteractive',\n",
              "                                                     [key], {});\n",
              "          if (!dataTable) return;\n",
              "\n",
              "          const docLinkHtml = 'Like what you see? Visit the ' +\n",
              "            '<a target=\"_blank\" href=https://colab.research.google.com/notebooks/data_table.ipynb>data table notebook</a>'\n",
              "            + ' to learn more about interactive tables.';\n",
              "          element.innerHTML = '';\n",
              "          dataTable['output_type'] = 'display_data';\n",
              "          await google.colab.output.renderOutput(dataTable, element);\n",
              "          const docLink = document.createElement('div');\n",
              "          docLink.innerHTML = docLinkHtml;\n",
              "          element.appendChild(docLink);\n",
              "        }\n",
              "      </script>\n",
              "    </div>\n",
              "  </div>\n",
              "  "
            ]
          },
          "metadata": {},
          "execution_count": 26
        }
      ]
    },
    {
      "cell_type": "code",
      "source": [
        "drop_cols = ['ID', 'z_true', 'u', 'g',  'i', 'z', 'y', \n",
        "        'err_u', 'err_g', 'err_r', 'err_i', 'err_z', 'err_y', \n",
        "        'err_u-g', 'err_g-r', 'err_r-i', 'err_i-z', 'err_z-y']\n"
      ],
      "metadata": {
        "id": "JRp8uTEKzAKp"
      },
      "execution_count": 80,
      "outputs": []
    },
    {
      "cell_type": "code",
      "source": [
        "#phot_cats['baseline_v1.4_10yrs']"
      ],
      "metadata": {
        "id": "Wu-O7UtRzGXt"
      },
      "execution_count": 9,
      "outputs": []
    },
    {
      "cell_type": "code",
      "source": [
        "#phot_cats['baseline_v1.4_10yrs'].to_pandas().drop(drop_cols, axis = 1)"
      ],
      "metadata": {
        "id": "hL4_BP9Ky4Sb"
      },
      "execution_count": 10,
      "outputs": []
    },
    {
      "cell_type": "code",
      "source": [
        "# conditional_columns = phot_cats['baseline_v1.4_10yrs'].to_pandas().drop(drop_cols, axis = 1)"
      ],
      "metadata": {
        "id": "PmAgnKAjxBUH"
      },
      "execution_count": null,
      "outputs": []
    },
    {
      "cell_type": "code",
      "source": [
        "from matplotlib.pyplot import hist, xlabel, ylabel, legend \n",
        "\n",
        "for which_os in available_os:\n",
        "  hist(z_cats[which_os]['z_true'], bins=50, alpha=0.35, color=os_colors[which_os], \n",
        "       label=which_os+': '+str(len(phot_cats[which_os]))+' galaxies', density = True)\n",
        "xlabel(r'true redshift $z$')\n",
        "ylabel('number of galaxies')\n",
        "legend(loc='upper right', fontsize='small')"
      ],
      "metadata": {
        "colab": {
          "base_uri": "https://localhost:8080/",
          "height": 467
        },
        "id": "7FnoZxdwu9uP",
        "outputId": "991c3957-e730-490a-f539-7801feb50985"
      },
      "execution_count": 78,
      "outputs": [
        {
          "output_type": "execute_result",
          "data": {
            "text/plain": [
              "<matplotlib.legend.Legend at 0x7fee1049b100>"
            ]
          },
          "metadata": {},
          "execution_count": 78
        },
        {
          "output_type": "display_data",
          "data": {
            "text/plain": [
              "<Figure size 640x480 with 1 Axes>"
            ],
            "image/png": "[encoded data removed]"
          },
          "metadata": {}
        }
      ]
    },
    {
      "cell_type": "code",
      "source": [
        "# up to this point, using exact routines from TLM - switching to CASTOR inherited scripts"
      ],
      "metadata": {
        "id": "JS6l4eMlvGmW"
      },
      "execution_count": null,
      "outputs": []
    },
    {
      "cell_type": "code",
      "source": [
        "# mins = [0, 20, -5, -5, -5, -5, -5]\n",
        "# maxs = [6, 30, 5, 5, 5, 5, 5]\n",
        "\n",
        "# the data column is the one that is sampled and transformed by the flow\n",
        "data_columns = [\"z_true\"]\n",
        "\n",
        "all_cond_cols = {}\n",
        "ensembles = dict()\n",
        "\n",
        "for which_os in available_os:#catalogs.keys():\n",
        " # the conditional columns are the columns that the flow is conditioned on\n",
        "  #conditional_columns = phot_cats[os].columns.drop('z_true')#[\"r\", \"g-r\", \"r-i\", \"i-z\"] #, \"uv-u\", \"u-g\"] # different colors than LSST\n",
        "  conditional_columns = phot_cats[which_os].to_pandas().drop(drop_cols, axis = 1)\n",
        "  all_cond_cols[os] = conditional_columns\n",
        "  # print((os, conditional_columns))\n",
        "  ndcol = len(data_columns)\n",
        "  ncond = len(conditional_columns)\n",
        "  ndim = ndcol+ncond\n",
        "\n",
        "# first I create a bijector chain\n",
        "# the first bijection is a standard scaler - but I'm not actually using it for standard scaling\n",
        "#     I set the mean and std so that it maps the redshift range (0, 3.2) onto (-5, 5), which is \n",
        "#     the domain of the NeuralSplineCoupling\n",
        "# the second bijection is a NeuralSplineCoupling. I told it to expect 6 conditions,\n",
        "#     which will be the r mag and the galaxy colors\n",
        "# bijector = Chain(\n",
        "#     StandardScaler(np.atleast_1d(1.6), np.atleast_1d(0.32)),\n",
        "#     NeuralSplineCoupling(n_conditions=6)\n",
        "# )\n",
        "#   bijector = Chain(\n",
        "#     # InvSoftplus(z_col, sharpness),\n",
        "#     ShiftBounds(0, 6, B=4),\n",
        "#     RollingSplineCoupling(nlayers=1, n_conditions=ncond, B=6),\n",
        "#   )\n",
        "\n",
        "  bijector = Chain(\n",
        "    StandardScaler(np.atleast_1d(1.6), np.atleast_1d(0.32)),\n",
        "    NeuralSplineCoupling(B=5, n_conditions=6)\n",
        "  )\n",
        "\n",
        "# I set the latent distribution to a Uniform over (-5, 5)\n",
        "# this range was chosen to match the NeuralSplineCoupling domain\n",
        "# I chose a Uniform since all of the redshifts are drawn from a compact domain\n",
        "# latent = Uniform(1, 5) # did the syntax here change?\n",
        "\n",
        "  latent = Uniform(input_dim=ndcol, B=7)#(-5, 5), (-5, 5), (-5, 5), (-5, 5), (-5, 5), (-5, 5), (-5, 5))\n",
        "\n",
        "  flowEns2 = FlowEnsemble(data_columns = data_columns, \n",
        "                           conditional_columns = conditional_columns,\n",
        "                           bijector = bijector,\n",
        "                           latent = latent,\n",
        "                          #  info = info#, \n",
        "                          #  N = 10\n",
        "                            )\n",
        "  ensembles[os] = flowEns2"
      ],
      "metadata": {
        "id": "jjM40GXtwR9D"
      },
      "execution_count": 81,
      "outputs": []
    },
    {
      "cell_type": "code",
      "source": [
        "ensembles"
      ],
      "metadata": {
        "colab": {
          "base_uri": "https://localhost:8080/"
        },
        "id": "0-5cNt87wpr2",
        "outputId": "ea9ef196-d3bd-42fc-e055-15de131d52fd"
      },
      "execution_count": 38,
      "outputs": [
        {
          "output_type": "execute_result",
          "data": {
            "text/plain": [
              "{}"
            ]
          },
          "metadata": {},
          "execution_count": 38
        }
      ]
    },
    {
      "cell_type": "code",
      "source": [
        "# # temporary\n",
        "\n",
        "# from google.colab import drive\n",
        "# drive.mount('/content/drive')\n",
        "# prepend = '/content/drive/MyDrive/Research/RubinPz/'"
      ],
      "metadata": {
        "id": "XUmp0SDC2iEX"
      },
      "execution_count": 39,
      "outputs": []
    },
    {
      "cell_type": "code",
      "source": [
        "# ls '/content/drive/MyDrive/Research/RubinPz/'"
      ],
      "metadata": {
        "id": "YGbn3JeJ3BYC"
      },
      "execution_count": 40,
      "outputs": []
    },
    {
      "cell_type": "code",
      "source": [
        "# tav_train, tav_test = {}, {}\n",
        "# available_os = ['weather_1.2_v1.4_10yrs']\n",
        "\n",
        "for which_os in available_os:#:\n",
        "    ens  = ensembles[which_os]\n",
        "    # get the data and make a train and test set\n",
        "    cat = phot_cats[which_os].to_pandas()\n",
        "    # cat_train = cat.sample(frac = 0.99)\n",
        "    # cat_test = cat.drop(cat_train.index)\n",
        "    cat_train = cat\n",
        "    print(which_os)\n",
        "    # train the flow on the given learning rate schedule\n",
        "    loss = ens.train(cat_train,#conditional_columns], \n",
        "                               convolve_errs=False,\n",
        "                       epochs = 150, verbose=True)\n",
        "    # loss2 = ens.train(cat_train, convolve_errs=True,\n",
        "    #                    epochs = 30, seed = 312)\n",
        "    # loss3 = ens.train(cat_train, convolve_errs=True,\n",
        "    #                    epochs = 30, seed = 231)\n",
        "    \n",
        "    # losses = {fname : # for each flow trained in the ensemble...\n",
        "    #               [float(loss) # save the list of training losses\n",
        "    #                for lossDict in [loss1]#, loss2, loss3]\n",
        "    #                for loss in lossDict[fname]]\n",
        "    #           for fname in loss1}\n",
        "    \n",
        "    # print the train and test loss\n",
        "    train_loss = -np.mean(ens.log_prob(cat_train))\n",
        "    # test_loss = -np.mean(ens.log_prob(cat_test))\n",
        "    print(which_os, train_loss)#, test_loss)\n",
        "    # post_trained[os] = ens\n",
        "    # save the ensemble\n",
        "    ens.save(prepend+f\"pzflow_ensemble_for_{which_os}.pkl\")\n",
        "    # and the losses\n",
        "    with open(prepend+f\"losses_for_{which_os}.pkl\", \"wb\") as file:\n",
        "        pickle.dump({\"losses\": loss, \n",
        "                     \"train loss\": train_loss, \n",
        "                    #  \"test loss\": test_loss,\n",
        "                     \"train_ids\": cat_train.index},\n",
        "                    file)\n",
        "        \n",
        "    # mutual_information_lower_bound_train = ens.log_prob(cat_train, returnEnsemble=True)\n",
        "    # mutual_information_lower_bound_test = ens.log_prob(cat_test, returnEnsemble=True)\n",
        "    # tav_train[os] = mutual_information_lower_bound_train\n",
        "    # tav_test[os] = mutual_information_lower_bound_test\n"
      ],
      "metadata": {
        "colab": {
          "base_uri": "https://localhost:8080/",
          "height": 232
        },
        "id": "j7MYPD_q00Yr",
        "outputId": "1b820de3-0a0e-4d5b-d12a-581c2c41232f"
      },
      "execution_count": 36,
      "outputs": [
        {
          "output_type": "error",
          "ename": "NameError",
          "evalue": "ignored",
          "traceback": [
            "\u001b[0;31m---------------------------------------------------------------------------\u001b[0m",
            "\u001b[0;31mNameError\u001b[0m                                 Traceback (most recent call last)",
            "\u001b[0;32m<ipython-input-36-e75f81452742>\u001b[0m in \u001b[0;36m<cell line: 4>\u001b[0;34m()\u001b[0m\n\u001b[1;32m      3\u001b[0m \u001b[0;34m\u001b[0m\u001b[0m\n\u001b[1;32m      4\u001b[0m \u001b[0;32mfor\u001b[0m \u001b[0mwhich_os\u001b[0m \u001b[0;32min\u001b[0m \u001b[0mavailable_os\u001b[0m\u001b[0;34m:\u001b[0m\u001b[0;31m#:\u001b[0m\u001b[0;34m\u001b[0m\u001b[0;34m\u001b[0m\u001b[0m\n\u001b[0;32m----> 5\u001b[0;31m     \u001b[0mens\u001b[0m  \u001b[0;34m=\u001b[0m \u001b[0mensembles\u001b[0m\u001b[0;34m[\u001b[0m\u001b[0mwhich_os\u001b[0m\u001b[0;34m]\u001b[0m\u001b[0;34m\u001b[0m\u001b[0;34m\u001b[0m\u001b[0m\n\u001b[0m\u001b[1;32m      6\u001b[0m     \u001b[0;31m# get the data and make a train and test set\u001b[0m\u001b[0;34m\u001b[0m\u001b[0;34m\u001b[0m\u001b[0m\n\u001b[1;32m      7\u001b[0m     \u001b[0mcat\u001b[0m \u001b[0;34m=\u001b[0m \u001b[0mphot_cats\u001b[0m\u001b[0;34m[\u001b[0m\u001b[0mwhich_os\u001b[0m\u001b[0;34m]\u001b[0m\u001b[0;34m.\u001b[0m\u001b[0mto_pandas\u001b[0m\u001b[0;34m(\u001b[0m\u001b[0;34m)\u001b[0m\u001b[0;34m\u001b[0m\u001b[0;34m\u001b[0m\u001b[0m\n",
            "\u001b[0;31mNameError\u001b[0m: name 'ensembles' is not defined"
          ]
        }
      ]
    },
    {
      "cell_type": "code",
      "source": [
        "cd drive/MyDrive/Research/RubinPz"
      ],
      "metadata": {
        "colab": {
          "base_uri": "https://localhost:8080/"
        },
        "id": "z7RWBfXKdPzM",
        "outputId": "98f3cb97-67f5-4fe1-8c01-e3d213dcbfc0"
      },
      "execution_count": 17,
      "outputs": [
        {
          "output_type": "stream",
          "name": "stdout",
          "text": [
            "/content/drive/MyDrive/Research/RubinPz\n"
          ]
        }
      ]
    },
    {
      "cell_type": "code",
      "source": [
        "pwd"
      ],
      "metadata": {
        "colab": {
          "base_uri": "https://localhost:8080/",
          "height": 37
        },
        "id": "bIhqn_1VsR-4",
        "outputId": "885f2be8-1361-4cc5-ccf7-472db5406a40"
      },
      "execution_count": 18,
      "outputs": [
        {
          "output_type": "execute_result",
          "data": {
            "text/plain": [
              "'/content/drive/MyDrive/Research/RubinPz'"
            ],
            "application/vnd.google.colaboratory.intrinsic+json": {
              "type": "string"
            }
          },
          "metadata": {},
          "execution_count": 18
        }
      ]
    },
    {
      "cell_type": "code",
      "source": [
        "# losses_for_baseline_v1.4_10yrs.pkl\n",
        "# losses_for_twilight_neo_mod1_v1.4_10yrs.pkl\n",
        "# losses_for_var_expt_v1.4_10yrs.pkl\n",
        "# losses_for_weather_1.2_v1.4_10yrs.pkl\n",
        "# pzflow_ensemble_for_baseline_v1.4_10yrs.pkl\n",
        "# pzflow_ensemble_for_twilight_neo_mod1_v1.4_10yrs.pkl\n",
        "# pzflow_ensemble_for_var_expt_v1.4_10yrs.pkl\n",
        "# pzflow_ensemble_for_weather_1.2_v1.4_10yrs.pkl"
      ],
      "metadata": {
        "colab": {
          "base_uri": "https://localhost:8080/",
          "height": 130
        },
        "id": "wX1nLzdgdifn",
        "outputId": "97a2d80d-5693-4bc8-b2a8-d722e905da64"
      },
      "execution_count": 19,
      "outputs": [
        {
          "output_type": "error",
          "ename": "SyntaxError",
          "evalue": "ignored",
          "traceback": [
            "\u001b[0;36m  File \u001b[0;32m\"<ipython-input-19-67ca5b1c3f21>\"\u001b[0;36m, line \u001b[0;32m1\u001b[0m\n\u001b[0;31m    losses_for_baseline_v1.4_10yrs.pkl\u001b[0m\n\u001b[0m                          ^\u001b[0m\n\u001b[0;31mSyntaxError\u001b[0m\u001b[0;31m:\u001b[0m invalid syntax\n"
          ]
        }
      ]
    },
    {
      "cell_type": "code",
      "source": [
        "flows = {}\n",
        "for os in available_os:\n",
        "  flows[os] = [FlowEnsemble(file=f\"pzflow_ensemble_for_{os}.pkl\" )]\n",
        "\n",
        "# just_tav = {}\n",
        "# for os in available_os:\n",
        "#   just_tav[os] = post_trained[os].log_prob(catalogs[os])\n",
        "\n",
        "flows"
      ],
      "metadata": {
        "colab": {
          "base_uri": "https://localhost:8080/"
        },
        "id": "rZWOOR4qdsiN",
        "outputId": "a437a28c-17c6-4d4c-de87-c9e4a20a51ab"
      },
      "execution_count": 20,
      "outputs": [
        {
          "output_type": "execute_result",
          "data": {
            "text/plain": [
              "{'baseline_v1.4_10yrs': [<pzflow.flowEnsemble.FlowEnsemble at 0x7f842d8c6df0>],\n",
              " 'twilight_neo_mod1_v1.4_10yrs': [<pzflow.flowEnsemble.FlowEnsemble at 0x7f842d8c6ee0>],\n",
              " 'var_expt_v1.4_10yrs': [<pzflow.flowEnsemble.FlowEnsemble at 0x7f8424acff40>],\n",
              " 'weather_1.2_v1.4_10yrs': [<pzflow.flowEnsemble.FlowEnsemble at 0x7f8429086dc0>]}"
            ]
          },
          "metadata": {},
          "execution_count": 20
        }
      ]
    },
    {
      "cell_type": "code",
      "source": [
        "all_logp = {}\n",
        "for which_os in available_os:\n",
        "  all_logp[which_os] = np.stack([f.log_prob(phot_cats[which_os].to_pandas())\n",
        "                                 for f in flows[which_os] ], axis=0)"
      ],
      "metadata": {
        "id": "z1m4tb71f5vT"
      },
      "execution_count": 21,
      "outputs": []
    },
    {
      "cell_type": "code",
      "source": [
        "zbins = np.linspace(0, 3, 32)\n",
        "avgtav = {}\n",
        "errtav = {}\n",
        "for which_os in available_os:\n",
        "  plotran = np.empty_like(zbins)\n",
        "  ploterr = np.empty_like(zbins)\n",
        "  if 'logprob' not in phot_cats[which_os].columns.values():\n",
        "    phot_cats[which_os]['logprob'] = all_logp[which_os]\n",
        "  for i, zmin in enumerate(zbins[:-1]):\n",
        "    zmax = zbins[i+1]\n",
        "    subset = phot_cats[which_os][(phot_cats[which_os]['z_true'] >= zmin) & (phot_cats[which_os]['z_true'] < zmax)]\n",
        "    # print((zmin, len(subset), zmax))\n",
        "    vals = subset['logprob']\n",
        "    mean = np.mean(vals)\n",
        "    std = np.std(vals)\n",
        "    plotran[i] = mean\n",
        "    ploterr[i] = std\n",
        "  avgtav[os] = plotran\n",
        "  errtav[os] = ploterr\n",
        "\n"
      ],
      "metadata": {
        "colab": {
          "base_uri": "https://localhost:8080/"
        },
        "id": "Y_HM2gmJq_LL",
        "outputId": "4630dcb0-989f-4ada-8cb0-1fdf76df6ea6"
      },
      "execution_count": null,
      "outputs": [
        {
          "output_type": "stream",
          "name": "stdout",
          "text": [
            "weather_1.2_v1.4_10yrs\n",
            "<TableColumns names=('ID','z_true','u','g','r','i','z','y','err_u','err_g','err_r','err_i','err_z','err_y','u-g','g-r','r-i','i-z','z-y','err_u-g','err_g-r','err_r-i','err_i-z','err_z-y','logprob')>\n",
            "<TableColumns names=('ID','z_true','u','g','r','i','z','y','err_u','err_g','err_r','err_i','err_z','err_y','u-g','g-r','r-i','i-z','z-y','err_u-g','err_g-r','err_r-i','err_i-z','err_z-y','logprob')>\n",
            "weather_1.2_v1.4_10yrs\n",
            "<TableColumns names=('ID','z_true','u','g','r','i','z','y','err_u','err_g','err_r','err_i','err_z','err_y','u-g','g-r','r-i','i-z','z-y','err_u-g','err_g-r','err_r-i','err_i-z','err_z-y')>\n"
          ]
        }
      ]
    },
    {
      "cell_type": "code",
      "source": [
        "for which_os in available_os:\n",
        "  plt.errorbar(zbins, avgtav[which_os], errtav[which_os], label=which_os, alpha=0.5)\n",
        "plt.legend()\n",
        "plt.xlabel('z_true')\n",
        "plt.ylabel(chr(0x05ea))"
      ],
      "metadata": {
        "colab": {
          "base_uri": "https://localhost:8080/",
          "height": 232
        },
        "id": "k_oqYokRnh-W",
        "outputId": "3a55f427-de27-4caa-aa01-cc0db2ea8181"
      },
      "execution_count": 1,
      "outputs": [
        {
          "output_type": "error",
          "ename": "NameError",
          "evalue": "ignored",
          "traceback": [
            "\u001b[0;31m---------------------------------------------------------------------------\u001b[0m",
            "\u001b[0;31mNameError\u001b[0m                                 Traceback (most recent call last)",
            "\u001b[0;32m<ipython-input-1-2f99d7fde0e4>\u001b[0m in \u001b[0;36m<module>\u001b[0;34m\u001b[0m\n\u001b[0;32m----> 1\u001b[0;31m \u001b[0;32mfor\u001b[0m \u001b[0mwhich_os\u001b[0m \u001b[0;32min\u001b[0m \u001b[0mavailable_os\u001b[0m\u001b[0;34m:\u001b[0m\u001b[0;34m\u001b[0m\u001b[0;34m\u001b[0m\u001b[0m\n\u001b[0m\u001b[1;32m      2\u001b[0m   \u001b[0mplt\u001b[0m\u001b[0;34m.\u001b[0m\u001b[0merrorbar\u001b[0m\u001b[0;34m(\u001b[0m\u001b[0mzbins\u001b[0m\u001b[0;34m,\u001b[0m \u001b[0mavgtav\u001b[0m\u001b[0;34m[\u001b[0m\u001b[0mwhich_os\u001b[0m\u001b[0;34m]\u001b[0m\u001b[0;34m,\u001b[0m \u001b[0merrtav\u001b[0m\u001b[0;34m[\u001b[0m\u001b[0mwhich_os\u001b[0m\u001b[0;34m]\u001b[0m\u001b[0;34m,\u001b[0m \u001b[0mlabel\u001b[0m\u001b[0;34m=\u001b[0m\u001b[0mwhich_os\u001b[0m\u001b[0;34m,\u001b[0m \u001b[0malpha\u001b[0m\u001b[0;34m=\u001b[0m\u001b[0;36m0.5\u001b[0m\u001b[0;34m)\u001b[0m\u001b[0;34m\u001b[0m\u001b[0;34m\u001b[0m\u001b[0m\n\u001b[1;32m      3\u001b[0m \u001b[0mplt\u001b[0m\u001b[0;34m.\u001b[0m\u001b[0mlegend\u001b[0m\u001b[0;34m(\u001b[0m\u001b[0;34m)\u001b[0m\u001b[0;34m\u001b[0m\u001b[0;34m\u001b[0m\u001b[0m\n\u001b[1;32m      4\u001b[0m \u001b[0mplt\u001b[0m\u001b[0;34m.\u001b[0m\u001b[0mxlabel\u001b[0m\u001b[0;34m(\u001b[0m\u001b[0;34m'z_true'\u001b[0m\u001b[0;34m)\u001b[0m\u001b[0;34m\u001b[0m\u001b[0;34m\u001b[0m\u001b[0m\n\u001b[1;32m      5\u001b[0m \u001b[0mplt\u001b[0m\u001b[0;34m.\u001b[0m\u001b[0mylabel\u001b[0m\u001b[0;34m(\u001b[0m\u001b[0mchr\u001b[0m\u001b[0;34m(\u001b[0m\u001b[0;36m0x05ea\u001b[0m\u001b[0;34m)\u001b[0m\u001b[0;34m)\u001b[0m\u001b[0;34m\u001b[0m\u001b[0;34m\u001b[0m\u001b[0m\n",
            "\u001b[0;31mNameError\u001b[0m: name 'available_os' is not defined"
          ]
        }
      ]
    },
    {
      "cell_type": "code",
      "source": [
        "z_cats_no_nan = {}\n",
        "for which_os in available_os: \n",
        "  IDS = phot_cats[which_os]['ID']\n",
        "  z_cats_no_nan[which_os] = z_cats[which_os].to_pandas()[z_cats[which_os].to_pandas()['ID'].isin(IDS)]"
      ],
      "metadata": {
        "id": "PxAowaLFhadl"
      },
      "execution_count": 14,
      "outputs": []
    },
    {
      "cell_type": "code",
      "source": [
        "# all_logp = {}\n",
        "# for which_os in available_os:\n",
        "#   all_logp[which_os] = np.stack([f.log_prob(phot_cats[which_os].to_pandas())\n",
        "#                                  for f in flows[which_os] ], axis=0)\n",
        "\n",
        "from scipy import stats\n",
        "n=32\n",
        "b = stats.mstats.mquantiles(z_cats_no_nan[which_os]['z_true'], np.linspace(0,1,n, endpoint=True))\n",
        "print(len(z_cats_no_nan[which_os]['z_true']))\n",
        "\n",
        "mis = {}\n",
        "\n",
        "for which_os in available_os:\n",
        "  inds = np.digitize(z_cats_no_nan[which_os]['z_true'], b) -1 \n",
        "\n",
        "  print(len(inds))\n",
        "\n",
        "\n",
        "  res = np.zeros(n-1)\n",
        "  for i in range(n-1):\n",
        "    res[i] = np.mean( np.mean((all_logp[which_os].flatten()[inds == i])))\n",
        "    \n",
        "  mis[which_os] = res\n",
        "\n",
        "b_centers = 0.5*(b[1:] + b[:-1])\n",
        "\n",
        "plt.figure(figsize=(6,5))\n",
        "for which_os in available_os:\n",
        "  plt.plot(b_centers, - mis[which_os], label=which_os, color=os_colors[which_os])\n",
        "plt.legend()\n",
        "plt.ylabel(r'$- \\log q_{\\varphi} (z | x_{phot})$')\n",
        "plt.xlabel('True redshift z')\n",
        "plt.xlim(0,3);\n"
      ],
      "metadata": {
        "id": "QsWIMD4f1ruc",
        "colab": {
          "base_uri": "https://localhost:8080/",
          "height": 368
        },
        "outputId": "e005004e-3aea-4d7e-e949-66b7086d931b"
      },
      "execution_count": 27,
      "outputs": [
        {
          "output_type": "stream",
          "name": "stdout",
          "text": [
            "46122\n",
            "46122\n"
          ]
        },
        {
          "output_type": "display_data",
          "data": {
            "text/plain": [
              "<Figure size 432x360 with 1 Axes>"
            ],
            "image/png": "[encoded data removed]"
          },
          "metadata": {
            "needs_background": "light"
          }
        }
      ]
    },
    {
      "cell_type": "code",
      "source": [
        "z_cats['baseline_v1.4_10yrs'].to_pandas().dropna()"
      ],
      "metadata": {
        "colab": {
          "base_uri": "https://localhost:8080/",
          "height": 164
        },
        "id": "8Z8RqlO3gR03",
        "outputId": "04060407-4133-4f20-80a4-7256a939f757"
      },
      "execution_count": 2,
      "outputs": [
        {
          "output_type": "error",
          "ename": "NameError",
          "evalue": "ignored",
          "traceback": [
            "\u001b[0;31m---------------------------------------------------------------------------\u001b[0m",
            "\u001b[0;31mNameError\u001b[0m                                 Traceback (most recent call last)",
            "\u001b[0;32m<ipython-input-2-c2e90cb3ede1>\u001b[0m in \u001b[0;36m<module>\u001b[0;34m\u001b[0m\n\u001b[0;32m----> 1\u001b[0;31m \u001b[0mz_cats\u001b[0m\u001b[0;34m[\u001b[0m\u001b[0;34m'baseline_v1.4_10yrs'\u001b[0m\u001b[0;34m]\u001b[0m\u001b[0;34m.\u001b[0m\u001b[0mto_pandas\u001b[0m\u001b[0;34m(\u001b[0m\u001b[0;34m)\u001b[0m\u001b[0;34m.\u001b[0m\u001b[0mdropna\u001b[0m\u001b[0;34m(\u001b[0m\u001b[0;34m)\u001b[0m\u001b[0;34m\u001b[0m\u001b[0;34m\u001b[0m\u001b[0m\n\u001b[0m",
            "\u001b[0;31mNameError\u001b[0m: name 'z_cats' is not defined"
          ]
        }
      ]
    },
    {
      "cell_type": "code",
      "source": [
        "z_cats['ID']"
      ],
      "metadata": {
        "colab": {
          "base_uri": "https://localhost:8080/",
          "height": 164
        },
        "id": "P69jDS8qMmnc",
        "outputId": "b03a0ef1-1e42-460c-dd07-0544e71f9639"
      },
      "execution_count": 1,
      "outputs": [
        {
          "output_type": "error",
          "ename": "NameError",
          "evalue": "ignored",
          "traceback": [
            "\u001b[0;31m---------------------------------------------------------------------------\u001b[0m",
            "\u001b[0;31mNameError\u001b[0m                                 Traceback (most recent call last)",
            "\u001b[0;32m<ipython-input-1-72acb964d21b>\u001b[0m in \u001b[0;36m<module>\u001b[0;34m\u001b[0m\n\u001b[0;32m----> 1\u001b[0;31m \u001b[0mz_cats\u001b[0m\u001b[0;34m[\u001b[0m\u001b[0;34m'ID'\u001b[0m\u001b[0;34m]\u001b[0m\u001b[0;34m\u001b[0m\u001b[0;34m\u001b[0m\u001b[0m\n\u001b[0m",
            "\u001b[0;31mNameError\u001b[0m: name 'z_cats' is not defined"
          ]
        }
      ]
    },
    {
      "cell_type": "code",
      "source": [
        "phot_cats['baseline_v1.4_10yrs'].to_pandas().dropna()"
      ],
      "metadata": {
        "colab": {
          "base_uri": "https://localhost:8080/",
          "height": 500
        },
        "id": "2jYDzBMImSrz",
        "outputId": "b61f0665-4b2a-42f0-aae2-f1de762a4545"
      },
      "execution_count": 9,
      "outputs": [
        {
          "output_type": "execute_result",
          "data": {
            "text/plain": [
              "             ID    z_true          u         g          r         i  \\\n",
              "0       5142370  1.611490  24.121025  0.053106  24.084064  0.021194   \n",
              "1      10264978  0.609370  25.452115  0.146893  25.112487  0.047829   \n",
              "2      14377082  1.458934  24.812845  0.099648  24.708982  0.036467   \n",
              "3       1763375  0.831793  25.239161  0.167837  25.307067  0.062421   \n",
              "4       7447092  1.607346  24.761218  0.101785  24.784247  0.037954   \n",
              "...         ...       ...        ...       ...        ...       ...   \n",
              "45462  14397855  0.617293  22.352280  0.015766  22.080703  0.005925   \n",
              "45463   7802797  1.407002  24.310817  0.066381  24.540088  0.029989   \n",
              "45464  13596631  1.027984  24.827324  0.112767  25.006379  0.046138   \n",
              "45465   2249420  0.599738  24.377532  0.076603  24.348074  0.025946   \n",
              "45466  13384704  0.850739  24.758625  0.109981  24.847785  0.041477   \n",
              "\n",
              "               z         y      err_u     err_g  ...       u-g       g-r  \\\n",
              "0      24.181071  0.020409  24.123542  0.028792  ...  0.036961  0.057179   \n",
              "1      24.362166  0.023850  23.863323  0.024224  ...  0.339628  0.154484   \n",
              "2      24.659695  0.031157  24.417965  0.036453  ...  0.103862  0.106111   \n",
              "3      25.126998  0.046350  24.424180  0.036193  ... -0.067906  0.179069   \n",
              "4      24.998465  0.040439  24.650014  0.051406  ... -0.023029  0.108630   \n",
              "...          ...       ...        ...       ...  ...       ...       ...   \n",
              "45462  21.379873  0.005000  20.870425  0.005000  ...  0.271577  0.016842   \n",
              "45463  24.541476  0.028616  24.461149  0.040457  ... -0.229271  0.072840   \n",
              "45464  24.982716  0.040795  24.726936  0.046983  ... -0.179055  0.121841   \n",
              "45465  23.578580  0.012675  23.085684  0.012725  ...  0.029458  0.080878   \n",
              "45466  24.689588  0.030145  23.892692  0.024026  ... -0.089160  0.117543   \n",
              "\n",
              "            r-i       i-z       z-y   err_u-g   err_g-r   err_r-i   err_i-z  \\\n",
              "0     -0.097007  0.029423  0.057529  0.035292  0.188057  0.052722  0.260121   \n",
              "1      0.750321  0.053446  0.498843  0.033995  0.141730  0.044184 -0.015132   \n",
              "2      0.049287  0.047964  0.241730  0.047954  0.505887  0.055536  0.402858   \n",
              "3      0.180069  0.077747  0.702819  0.058807  0.303500  0.063029 -0.011151   \n",
              "4     -0.214218  0.055460  0.348451  0.065405  0.182749  0.089865 -0.012705   \n",
              "...         ...       ...       ...       ...       ...       ...       ...   \n",
              "45462  0.700831  0.007753  0.509448  0.007071  0.137748  0.007071  0.077302   \n",
              "45463 -0.001388  0.041451  0.080327  0.049555  0.140659  0.070073  0.436596   \n",
              "45464  0.023662  0.061587  0.255780  0.062222  0.532797  0.071797  0.172554   \n",
              "45465  0.769493  0.028877  0.492897  0.017961  0.157233  0.021593  0.060149   \n",
              "45466  0.158197  0.051274  0.796896  0.038548  0.290331  0.039741  0.103216   \n",
              "\n",
              "        err_z-y  \n",
              "0      0.086867  \n",
              "1      0.081144  \n",
              "2      0.070597  \n",
              "3      0.113981  \n",
              "4      0.140346  \n",
              "...         ...  \n",
              "45462  0.007071  \n",
              "45463  0.105000  \n",
              "45464  0.121514  \n",
              "45465  0.038260  \n",
              "45466  0.069618  \n",
              "\n",
              "[45467 rows x 24 columns]"
            ],
            "text/html": [
              "\n",
              "  <div id=\"df-ad038189-bdd8-4a20-bc50-79e411ce669f\">\n",
              "    <div class=\"colab-df-container\">\n",
              "      <div>\n",
              "<style scoped>\n",
              "    .dataframe tbody tr th:only-of-type {\n",
              "        vertical-align: middle;\n",
              "    }\n",
              "\n",
              "    .dataframe tbody tr th {\n",
              "        vertical-align: top;\n",
              "    }\n",
              "\n",
              "    .dataframe thead th {\n",
              "        text-align: right;\n",
              "    }\n",
              "</style>\n",
              "<table border=\"1\" class=\"dataframe\">\n",
              "  <thead>\n",
              "    <tr style=\"text-align: right;\">\n",
              "      <th></th>\n",
              "      <th>ID</th>\n",
              "      <th>z_true</th>\n",
              "      <th>u</th>\n",
              "      <th>g</th>\n",
              "      <th>r</th>\n",
              "      <th>i</th>\n",
              "      <th>z</th>\n",
              "      <th>y</th>\n",
              "      <th>err_u</th>\n",
              "      <th>err_g</th>\n",
              "      <th>...</th>\n",
              "      <th>u-g</th>\n",
              "      <th>g-r</th>\n",
              "      <th>r-i</th>\n",
              "      <th>i-z</th>\n",
              "      <th>z-y</th>\n",
              "      <th>err_u-g</th>\n",
              "      <th>err_g-r</th>\n",
              "      <th>err_r-i</th>\n",
              "      <th>err_i-z</th>\n",
              "      <th>err_z-y</th>\n",
              "    </tr>\n",
              "  </thead>\n",
              "  <tbody>\n",
              "    <tr>\n",
              "      <th>0</th>\n",
              "      <td>5142370</td>\n",
              "      <td>1.611490</td>\n",
              "      <td>24.121025</td>\n",
              "      <td>0.053106</td>\n",
              "      <td>24.084064</td>\n",
              "      <td>0.021194</td>\n",
              "      <td>24.181071</td>\n",
              "      <td>0.020409</td>\n",
              "      <td>24.123542</td>\n",
              "      <td>0.028792</td>\n",
              "      <td>...</td>\n",
              "      <td>0.036961</td>\n",
              "      <td>0.057179</td>\n",
              "      <td>-0.097007</td>\n",
              "      <td>0.029423</td>\n",
              "      <td>0.057529</td>\n",
              "      <td>0.035292</td>\n",
              "      <td>0.188057</td>\n",
              "      <td>0.052722</td>\n",
              "      <td>0.260121</td>\n",
              "      <td>0.086867</td>\n",
              "    </tr>\n",
              "    <tr>\n",
              "      <th>1</th>\n",
              "      <td>10264978</td>\n",
              "      <td>0.609370</td>\n",
              "      <td>25.452115</td>\n",
              "      <td>0.146893</td>\n",
              "      <td>25.112487</td>\n",
              "      <td>0.047829</td>\n",
              "      <td>24.362166</td>\n",
              "      <td>0.023850</td>\n",
              "      <td>23.863323</td>\n",
              "      <td>0.024224</td>\n",
              "      <td>...</td>\n",
              "      <td>0.339628</td>\n",
              "      <td>0.154484</td>\n",
              "      <td>0.750321</td>\n",
              "      <td>0.053446</td>\n",
              "      <td>0.498843</td>\n",
              "      <td>0.033995</td>\n",
              "      <td>0.141730</td>\n",
              "      <td>0.044184</td>\n",
              "      <td>-0.015132</td>\n",
              "      <td>0.081144</td>\n",
              "    </tr>\n",
              "    <tr>\n",
              "      <th>2</th>\n",
              "      <td>14377082</td>\n",
              "      <td>1.458934</td>\n",
              "      <td>24.812845</td>\n",
              "      <td>0.099648</td>\n",
              "      <td>24.708982</td>\n",
              "      <td>0.036467</td>\n",
              "      <td>24.659695</td>\n",
              "      <td>0.031157</td>\n",
              "      <td>24.417965</td>\n",
              "      <td>0.036453</td>\n",
              "      <td>...</td>\n",
              "      <td>0.103862</td>\n",
              "      <td>0.106111</td>\n",
              "      <td>0.049287</td>\n",
              "      <td>0.047964</td>\n",
              "      <td>0.241730</td>\n",
              "      <td>0.047954</td>\n",
              "      <td>0.505887</td>\n",
              "      <td>0.055536</td>\n",
              "      <td>0.402858</td>\n",
              "      <td>0.070597</td>\n",
              "    </tr>\n",
              "    <tr>\n",
              "      <th>3</th>\n",
              "      <td>1763375</td>\n",
              "      <td>0.831793</td>\n",
              "      <td>25.239161</td>\n",
              "      <td>0.167837</td>\n",
              "      <td>25.307067</td>\n",
              "      <td>0.062421</td>\n",
              "      <td>25.126998</td>\n",
              "      <td>0.046350</td>\n",
              "      <td>24.424180</td>\n",
              "      <td>0.036193</td>\n",
              "      <td>...</td>\n",
              "      <td>-0.067906</td>\n",
              "      <td>0.179069</td>\n",
              "      <td>0.180069</td>\n",
              "      <td>0.077747</td>\n",
              "      <td>0.702819</td>\n",
              "      <td>0.058807</td>\n",
              "      <td>0.303500</td>\n",
              "      <td>0.063029</td>\n",
              "      <td>-0.011151</td>\n",
              "      <td>0.113981</td>\n",
              "    </tr>\n",
              "    <tr>\n",
              "      <th>4</th>\n",
              "      <td>7447092</td>\n",
              "      <td>1.607346</td>\n",
              "      <td>24.761218</td>\n",
              "      <td>0.101785</td>\n",
              "      <td>24.784247</td>\n",
              "      <td>0.037954</td>\n",
              "      <td>24.998465</td>\n",
              "      <td>0.040439</td>\n",
              "      <td>24.650014</td>\n",
              "      <td>0.051406</td>\n",
              "      <td>...</td>\n",
              "      <td>-0.023029</td>\n",
              "      <td>0.108630</td>\n",
              "      <td>-0.214218</td>\n",
              "      <td>0.055460</td>\n",
              "      <td>0.348451</td>\n",
              "      <td>0.065405</td>\n",
              "      <td>0.182749</td>\n",
              "      <td>0.089865</td>\n",
              "      <td>-0.012705</td>\n",
              "      <td>0.140346</td>\n",
              "    </tr>\n",
              "    <tr>\n",
              "      <th>...</th>\n",
              "      <td>...</td>\n",
              "      <td>...</td>\n",
              "      <td>...</td>\n",
              "      <td>...</td>\n",
              "      <td>...</td>\n",
              "      <td>...</td>\n",
              "      <td>...</td>\n",
              "      <td>...</td>\n",
              "      <td>...</td>\n",
              "      <td>...</td>\n",
              "      <td>...</td>\n",
              "      <td>...</td>\n",
              "      <td>...</td>\n",
              "      <td>...</td>\n",
              "      <td>...</td>\n",
              "      <td>...</td>\n",
              "      <td>...</td>\n",
              "      <td>...</td>\n",
              "      <td>...</td>\n",
              "      <td>...</td>\n",
              "      <td>...</td>\n",
              "    </tr>\n",
              "    <tr>\n",
              "      <th>45462</th>\n",
              "      <td>14397855</td>\n",
              "      <td>0.617293</td>\n",
              "      <td>22.352280</td>\n",
              "      <td>0.015766</td>\n",
              "      <td>22.080703</td>\n",
              "      <td>0.005925</td>\n",
              "      <td>21.379873</td>\n",
              "      <td>0.005000</td>\n",
              "      <td>20.870425</td>\n",
              "      <td>0.005000</td>\n",
              "      <td>...</td>\n",
              "      <td>0.271577</td>\n",
              "      <td>0.016842</td>\n",
              "      <td>0.700831</td>\n",
              "      <td>0.007753</td>\n",
              "      <td>0.509448</td>\n",
              "      <td>0.007071</td>\n",
              "      <td>0.137748</td>\n",
              "      <td>0.007071</td>\n",
              "      <td>0.077302</td>\n",
              "      <td>0.007071</td>\n",
              "    </tr>\n",
              "    <tr>\n",
              "      <th>45463</th>\n",
              "      <td>7802797</td>\n",
              "      <td>1.407002</td>\n",
              "      <td>24.310817</td>\n",
              "      <td>0.066381</td>\n",
              "      <td>24.540088</td>\n",
              "      <td>0.029989</td>\n",
              "      <td>24.541476</td>\n",
              "      <td>0.028616</td>\n",
              "      <td>24.461149</td>\n",
              "      <td>0.040457</td>\n",
              "      <td>...</td>\n",
              "      <td>-0.229271</td>\n",
              "      <td>0.072840</td>\n",
              "      <td>-0.001388</td>\n",
              "      <td>0.041451</td>\n",
              "      <td>0.080327</td>\n",
              "      <td>0.049555</td>\n",
              "      <td>0.140659</td>\n",
              "      <td>0.070073</td>\n",
              "      <td>0.436596</td>\n",
              "      <td>0.105000</td>\n",
              "    </tr>\n",
              "    <tr>\n",
              "      <th>45464</th>\n",
              "      <td>13596631</td>\n",
              "      <td>1.027984</td>\n",
              "      <td>24.827324</td>\n",
              "      <td>0.112767</td>\n",
              "      <td>25.006379</td>\n",
              "      <td>0.046138</td>\n",
              "      <td>24.982716</td>\n",
              "      <td>0.040795</td>\n",
              "      <td>24.726936</td>\n",
              "      <td>0.046983</td>\n",
              "      <td>...</td>\n",
              "      <td>-0.179055</td>\n",
              "      <td>0.121841</td>\n",
              "      <td>0.023662</td>\n",
              "      <td>0.061587</td>\n",
              "      <td>0.255780</td>\n",
              "      <td>0.062222</td>\n",
              "      <td>0.532797</td>\n",
              "      <td>0.071797</td>\n",
              "      <td>0.172554</td>\n",
              "      <td>0.121514</td>\n",
              "    </tr>\n",
              "    <tr>\n",
              "      <th>45465</th>\n",
              "      <td>2249420</td>\n",
              "      <td>0.599738</td>\n",
              "      <td>24.377532</td>\n",
              "      <td>0.076603</td>\n",
              "      <td>24.348074</td>\n",
              "      <td>0.025946</td>\n",
              "      <td>23.578580</td>\n",
              "      <td>0.012675</td>\n",
              "      <td>23.085684</td>\n",
              "      <td>0.012725</td>\n",
              "      <td>...</td>\n",
              "      <td>0.029458</td>\n",
              "      <td>0.080878</td>\n",
              "      <td>0.769493</td>\n",
              "      <td>0.028877</td>\n",
              "      <td>0.492897</td>\n",
              "      <td>0.017961</td>\n",
              "      <td>0.157233</td>\n",
              "      <td>0.021593</td>\n",
              "      <td>0.060149</td>\n",
              "      <td>0.038260</td>\n",
              "    </tr>\n",
              "    <tr>\n",
              "      <th>45466</th>\n",
              "      <td>13384704</td>\n",
              "      <td>0.850739</td>\n",
              "      <td>24.758625</td>\n",
              "      <td>0.109981</td>\n",
              "      <td>24.847785</td>\n",
              "      <td>0.041477</td>\n",
              "      <td>24.689588</td>\n",
              "      <td>0.030145</td>\n",
              "      <td>23.892692</td>\n",
              "      <td>0.024026</td>\n",
              "      <td>...</td>\n",
              "      <td>-0.089160</td>\n",
              "      <td>0.117543</td>\n",
              "      <td>0.158197</td>\n",
              "      <td>0.051274</td>\n",
              "      <td>0.796896</td>\n",
              "      <td>0.038548</td>\n",
              "      <td>0.290331</td>\n",
              "      <td>0.039741</td>\n",
              "      <td>0.103216</td>\n",
              "      <td>0.069618</td>\n",
              "    </tr>\n",
              "  </tbody>\n",
              "</table>\n",
              "<p>45467 rows × 24 columns</p>\n",
              "</div>\n",
              "      <button class=\"colab-df-convert\" onclick=\"convertToInteractive('df-ad038189-bdd8-4a20-bc50-79e411ce669f')\"\n",
              "              title=\"Convert this dataframe to an interactive table.\"\n",
              "              style=\"display:none;\">\n",
              "        \n",
              "  <svg xmlns=\"http://www.w3.org/2000/svg\" height=\"24px\"viewBox=\"0 0 24 24\"\n",
              "       width=\"24px\">\n",
              "    <path d=\"M0 0h24v24H0V0z\" fill=\"none\"/>\n",
              "    <path d=\"M18.56 5.44l.94 2.06.94-2.06 2.06-.94-2.06-.94-.94-2.06-.94 2.06-2.06.94zm-11 1L8.5 8.5l.94-2.06 2.06-.94-2.06-.94L8.5 2.5l-.94 2.06-2.06.94zm10 10l.94 2.06.94-2.06 2.06-.94-2.06-.94-.94-2.06-.94 2.06-2.06.94z\"/><path d=\"M17.41 7.96l-1.37-1.37c-.4-.4-.92-.59-1.43-.59-.52 0-1.04.2-1.43.59L10.3 9.45l-7.72 7.72c-.78.78-.78 2.05 0 2.83L4 21.41c.39.39.9.59 1.41.59.51 0 1.02-.2 1.41-.59l7.78-7.78 2.81-2.81c.8-.78.8-2.07 0-2.86zM5.41 20L4 18.59l7.72-7.72 1.47 1.35L5.41 20z\"/>\n",
              "  </svg>\n",
              "      </button>\n",
              "      \n",
              "  <style>\n",
              "    .colab-df-container {\n",
              "      display:flex;\n",
              "      flex-wrap:wrap;\n",
              "      gap: 12px;\n",
              "    }\n",
              "\n",
              "    .colab-df-convert {\n",
              "      background-color: #E8F0FE;\n",
              "      border: none;\n",
              "      border-radius: 50%;\n",
              "      cursor: pointer;\n",
              "      display: none;\n",
              "      fill: #1967D2;\n",
              "      height: 32px;\n",
              "      padding: 0 0 0 0;\n",
              "      width: 32px;\n",
              "    }\n",
              "\n",
              "    .colab-df-convert:hover {\n",
              "      background-color: #E2EBFA;\n",
              "      box-shadow: 0px 1px 2px rgba(60, 64, 67, 0.3), 0px 1px 3px 1px rgba(60, 64, 67, 0.15);\n",
              "      fill: #174EA6;\n",
              "    }\n",
              "\n",
              "    [theme=dark] .colab-df-convert {\n",
              "      background-color: #3B4455;\n",
              "      fill: #D2E3FC;\n",
              "    }\n",
              "\n",
              "    [theme=dark] .colab-df-convert:hover {\n",
              "      background-color: #434B5C;\n",
              "      box-shadow: 0px 1px 3px 1px rgba(0, 0, 0, 0.15);\n",
              "      filter: drop-shadow(0px 1px 2px rgba(0, 0, 0, 0.3));\n",
              "      fill: #FFFFFF;\n",
              "    }\n",
              "  </style>\n",
              "\n",
              "      <script>\n",
              "        const buttonEl =\n",
              "          document.querySelector('#df-ad038189-bdd8-4a20-bc50-79e411ce669f button.colab-df-convert');\n",
              "        buttonEl.style.display =\n",
              "          google.colab.kernel.accessAllowed ? 'block' : 'none';\n",
              "\n",
              "        async function convertToInteractive(key) {\n",
              "          const element = document.querySelector('#df-ad038189-bdd8-4a20-bc50-79e411ce669f');\n",
              "          const dataTable =\n",
              "            await google.colab.kernel.invokeFunction('convertToInteractive',\n",
              "                                                     [key], {});\n",
              "          if (!dataTable) return;\n",
              "\n",
              "          const docLinkHtml = 'Like what you see? Visit the ' +\n",
              "            '<a target=\"_blank\" href=https://colab.research.google.com/notebooks/data_table.ipynb>data table notebook</a>'\n",
              "            + ' to learn more about interactive tables.';\n",
              "          element.innerHTML = '';\n",
              "          dataTable['output_type'] = 'display_data';\n",
              "          await google.colab.output.renderOutput(dataTable, element);\n",
              "          const docLink = document.createElement('div');\n",
              "          docLink.innerHTML = docLinkHtml;\n",
              "          element.appendChild(docLink);\n",
              "        }\n",
              "      </script>\n",
              "    </div>\n",
              "  </div>\n",
              "  "
            ]
          },
          "metadata": {},
          "execution_count": 9
        }
      ]
    },
    {
      "cell_type": "code",
      "source": [
        "Table.from_pandas(z_cats['baseline_v1.4_10yrs'].to_pandas().dropna())"
      ],
      "metadata": {
        "colab": {
          "base_uri": "https://localhost:8080/",
          "height": 519
        },
        "id": "dUkZ0QIPna8j",
        "outputId": "314c6041-1a15-484e-8fc0-8f1ca21640f2"
      },
      "execution_count": 11,
      "outputs": [
        {
          "output_type": "execute_result",
          "data": {
            "text/plain": [
              "<Table length=50000>\n",
              "   ID      z_true     z_phot    dz_phot     NN  N_train\n",
              " int64    float64    float64    float64   int64  int64 \n",
              "-------- ---------- ---------- ---------- ----- -------\n",
              " 5142370    1.61149  1.6217439 0.11353139  1364  137633\n",
              "10264978  0.6093701  0.5959976 0.01916667  4299  100392\n",
              " 5218585  1.6459169   1.805623 0.19234595  7424  122780\n",
              "11234975  0.9162506  0.9486344 0.03908415 17940  171801\n",
              "14377082  1.4589336  1.3392558  0.0723988  3084  165974\n",
              " 1763375  0.8317933  0.8913735  0.0407313 18254  120332\n",
              " 7447092  1.6073463  1.6826489 0.10704371  1147   99669\n",
              "10216960 0.37455308 0.37172663 0.05117984  7242   94588\n",
              " 8482528  1.7008493  1.6734085 0.05757779   191   26721\n",
              "   18058  0.9633236  1.4731169 0.19461853  6284  154733\n",
              "     ...        ...        ...        ...   ...     ...\n",
              "10699010  1.1586661  1.2713976 0.05368709  8614  163245\n",
              "11514359  1.0056779     0.9986 0.02673039   318  162137\n",
              " 4418785 0.48801935 0.45412052 0.04721126    10   89115\n",
              " 8884538   0.568287  0.5651125 0.06377215  4373  127487\n",
              "13400965  1.4810922  1.4172213 0.09385327  1113  162045\n",
              "14397855 0.61729276  0.6020404 0.01792526    10  105345\n",
              " 7802797  1.4070022  1.4720981 0.15462245   576  147600\n",
              "13596631  1.0279839  1.2500792 0.13997378 11065  165580\n",
              " 2249420 0.59973764  0.6052823 0.01442419   340   99403\n",
              "13384704  0.8507395 0.87160563 0.03054783  1532   94999"
            ],
            "text/html": [
              "<div><i>Table length=50000</i>\n",
              "<table id=\"table140258915407184\" class=\"table-striped table-bordered table-condensed\">\n",
              "<thead><tr><th>ID</th><th>z_true</th><th>z_phot</th><th>dz_phot</th><th>NN</th><th>N_train</th></tr></thead>\n",
              "<thead><tr><th>int64</th><th>float64</th><th>float64</th><th>float64</th><th>int64</th><th>int64</th></tr></thead>\n",
              "<tr><td>5142370</td><td>1.61149</td><td>1.6217439</td><td>0.11353139</td><td>1364</td><td>137633</td></tr>\n",
              "<tr><td>10264978</td><td>0.6093701</td><td>0.5959976</td><td>0.01916667</td><td>4299</td><td>100392</td></tr>\n",
              "<tr><td>5218585</td><td>1.6459169</td><td>1.805623</td><td>0.19234595</td><td>7424</td><td>122780</td></tr>\n",
              "<tr><td>11234975</td><td>0.9162506</td><td>0.9486344</td><td>0.03908415</td><td>17940</td><td>171801</td></tr>\n",
              "<tr><td>14377082</td><td>1.4589336</td><td>1.3392558</td><td>0.0723988</td><td>3084</td><td>165974</td></tr>\n",
              "<tr><td>1763375</td><td>0.8317933</td><td>0.8913735</td><td>0.0407313</td><td>18254</td><td>120332</td></tr>\n",
              "<tr><td>7447092</td><td>1.6073463</td><td>1.6826489</td><td>0.10704371</td><td>1147</td><td>99669</td></tr>\n",
              "<tr><td>10216960</td><td>0.37455308</td><td>0.37172663</td><td>0.05117984</td><td>7242</td><td>94588</td></tr>\n",
              "<tr><td>8482528</td><td>1.7008493</td><td>1.6734085</td><td>0.05757779</td><td>191</td><td>26721</td></tr>\n",
              "<tr><td>18058</td><td>0.9633236</td><td>1.4731169</td><td>0.19461853</td><td>6284</td><td>154733</td></tr>\n",
              "<tr><td>...</td><td>...</td><td>...</td><td>...</td><td>...</td><td>...</td></tr>\n",
              "<tr><td>10699010</td><td>1.1586661</td><td>1.2713976</td><td>0.05368709</td><td>8614</td><td>163245</td></tr>\n",
              "<tr><td>11514359</td><td>1.0056779</td><td>0.9986</td><td>0.02673039</td><td>318</td><td>162137</td></tr>\n",
              "<tr><td>4418785</td><td>0.48801935</td><td>0.45412052</td><td>0.04721126</td><td>10</td><td>89115</td></tr>\n",
              "<tr><td>8884538</td><td>0.568287</td><td>0.5651125</td><td>0.06377215</td><td>4373</td><td>127487</td></tr>\n",
              "<tr><td>13400965</td><td>1.4810922</td><td>1.4172213</td><td>0.09385327</td><td>1113</td><td>162045</td></tr>\n",
              "<tr><td>14397855</td><td>0.61729276</td><td>0.6020404</td><td>0.01792526</td><td>10</td><td>105345</td></tr>\n",
              "<tr><td>7802797</td><td>1.4070022</td><td>1.4720981</td><td>0.15462245</td><td>576</td><td>147600</td></tr>\n",
              "<tr><td>13596631</td><td>1.0279839</td><td>1.2500792</td><td>0.13997378</td><td>11065</td><td>165580</td></tr>\n",
              "<tr><td>2249420</td><td>0.59973764</td><td>0.6052823</td><td>0.01442419</td><td>340</td><td>99403</td></tr>\n",
              "<tr><td>13384704</td><td>0.8507395</td><td>0.87160563</td><td>0.03054783</td><td>1532</td><td>94999</td></tr>\n",
              "</table></div>"
            ]
          },
          "metadata": {},
          "execution_count": 11
        }
      ]
    },
    {
      "cell_type": "code",
      "source": [
        "data_url=\"https://storage.googleapis.com/ahw2019/for_malz_and_lanusse.tar.gz\"\n",
        "\n",
        "def load_data(output_dir='dataset'):\n",
        "  \"\"\"Retrieves opsim data from the internets if not already available locally\n",
        "  \"\"\"\n",
        "  if not os.path.exists(output_dir):\n",
        "    # Create a temporary work directory\n",
        "    temp_path = tempfile.mkdtemp()\n",
        "    tar_filename = os.path.join(temp_path, 'archive.tar.gz')\n",
        "\n",
        "    # Download the archive from the cloud\n",
        "    request.urlretrieve(data_url, tar_filename)\n",
        "\n",
        "    # Extract archive\n",
        "    my_tar = tarfile.open(tar_filename)\n",
        "    my_tar.extractall(temp_path)\n",
        "\n",
        "    # Move directory\n",
        "    shutil.move(os.path.join(temp_path, 'for_malz_and_lanusse'),\n",
        "                output_dir)\n",
        "\n",
        "  # Now we can load the data\n",
        "  all_readme = open(os.path.join(output_dir,'readme.txt')).read().split('\\n')\n",
        "  in_metadata = []\n",
        "  for i, line in enumerate(all_readme[0:6]):\n",
        "    descr = all_readme[i+1].split()\n",
        "    in_metadata.append(descr)\n",
        "\n",
        "  metadatum = namedtuple('metadatum', ['runid', 'OpSimName', 'u', 'g', 'r', 'i', 'z', 'y'])\n",
        "\n",
        "  metadata = {}\n",
        "  for row in in_metadata:\n",
        "    metadata[row[0]] = metadatum(*row)\n",
        "\n",
        "  names_z=('ID', 'z_true', 'z_phot', 'dz_phot', 'NN', 'N_train')\n",
        "  names_phot=('ID', 'z_true',\n",
        "    'u', 'err_u', 'g', 'err_g', 'r', 'err_r', 'i', 'err_i', 'z', 'err_z', 'y', 'err_y',\n",
        "    'u-g', 'err_u-g', 'g-r', 'err_g-r', 'r-i', 'err_r-i', 'i-z', 'err_i-z', 'z-y', 'err_z-y')\n",
        "\n",
        "  available_os = list(metadata.keys())\n",
        "  names = [metadata[runid].OpSimName for runid in available_os]\n",
        "  os_names = dict(zip(available_os, names))\n",
        "  os_colors = dict(zip(available_os, colors))\n",
        "\n",
        "  phot_cats, z_cats = {}, {}\n",
        "  for an_os in available_os:\n",
        "    one_os = 'run_'+an_os\n",
        "    test_cat = Table.read(os.path.join(output_dir,one_os+'/test.cat'),\n",
        "                          format='ascii')\n",
        "\n",
        "    z_cat = Table.read(os.path.join(output_dir,one_os+'/zphot.cat'),\n",
        "                         format='ascii',\n",
        "                         names=names_z)\n",
        "\n",
        "    phot_cat = Table.read(os.path.join(output_dir,one_os+'/test.cat'),\n",
        "                         format='ascii',\n",
        "                         names=names_phot)\n",
        "    phot_cat = Table.from_pandas(phot_cat.to_pandas().dropna())\n",
        "    phot_cats[an_os] = phot_cat\n",
        "    limmags = []\n",
        "    for band in ['u', 'g', 'r', 'i', 'z', 'y']:\n",
        "      limmags.append(max(phot_cat[band]))\n",
        "    limmag = metadatum(an_os, os_names[an_os], *limmags)\n",
        "    z_cats[an_os] = z_cat\n",
        "\n",
        "  return z_cats, phot_cats, available_os, os_names, os_colors\n"
      ],
      "metadata": {
        "id": "zkG8MAXTnuRy"
      },
      "execution_count": 12,
      "outputs": []
    },
    {
      "cell_type": "code",
      "source": [
        "import os\n",
        "\n",
        "load_data()"
      ],
      "metadata": {
        "colab": {
          "base_uri": "https://localhost:8080/",
          "height": 317
        },
        "id": "g_E-etSPoZrw",
        "outputId": "dfddf008-5406-420c-d92a-abe7faee3df7"
      },
      "execution_count": 14,
      "outputs": [
        {
          "output_type": "error",
          "ename": "FileNotFoundError",
          "evalue": "ignored",
          "traceback": [
            "\u001b[0;31m---------------------------------------------------------------------------\u001b[0m",
            "\u001b[0;31mFileNotFoundError\u001b[0m                         Traceback (most recent call last)",
            "\u001b[0;32m<ipython-input-14-4f49b9b5d2d7>\u001b[0m in \u001b[0;36m<module>\u001b[0;34m\u001b[0m\n\u001b[1;32m      1\u001b[0m \u001b[0;32mimport\u001b[0m \u001b[0mos\u001b[0m\u001b[0;34m\u001b[0m\u001b[0;34m\u001b[0m\u001b[0m\n\u001b[1;32m      2\u001b[0m \u001b[0;34m\u001b[0m\u001b[0m\n\u001b[0;32m----> 3\u001b[0;31m \u001b[0mload_data\u001b[0m\u001b[0;34m(\u001b[0m\u001b[0;34m)\u001b[0m\u001b[0;34m\u001b[0m\u001b[0;34m\u001b[0m\u001b[0m\n\u001b[0m",
            "\u001b[0;32m<ipython-input-12-cc29c64a9b6b>\u001b[0m in \u001b[0;36mload_data\u001b[0;34m(output_dir)\u001b[0m\n\u001b[1;32m     21\u001b[0m \u001b[0;34m\u001b[0m\u001b[0m\n\u001b[1;32m     22\u001b[0m   \u001b[0;31m# Now we can load the data\u001b[0m\u001b[0;34m\u001b[0m\u001b[0;34m\u001b[0m\u001b[0m\n\u001b[0;32m---> 23\u001b[0;31m   \u001b[0mall_readme\u001b[0m \u001b[0;34m=\u001b[0m \u001b[0mopen\u001b[0m\u001b[0;34m(\u001b[0m\u001b[0mos\u001b[0m\u001b[0;34m.\u001b[0m\u001b[0mpath\u001b[0m\u001b[0;34m.\u001b[0m\u001b[0mjoin\u001b[0m\u001b[0;34m(\u001b[0m\u001b[0moutput_dir\u001b[0m\u001b[0;34m,\u001b[0m\u001b[0;34m'readme.txt'\u001b[0m\u001b[0;34m)\u001b[0m\u001b[0;34m)\u001b[0m\u001b[0;34m.\u001b[0m\u001b[0mread\u001b[0m\u001b[0;34m(\u001b[0m\u001b[0;34m)\u001b[0m\u001b[0;34m.\u001b[0m\u001b[0msplit\u001b[0m\u001b[0;34m(\u001b[0m\u001b[0;34m'\\n'\u001b[0m\u001b[0;34m)\u001b[0m\u001b[0;34m\u001b[0m\u001b[0;34m\u001b[0m\u001b[0m\n\u001b[0m\u001b[1;32m     24\u001b[0m   \u001b[0min_metadata\u001b[0m \u001b[0;34m=\u001b[0m \u001b[0;34m[\u001b[0m\u001b[0;34m]\u001b[0m\u001b[0;34m\u001b[0m\u001b[0;34m\u001b[0m\u001b[0m\n\u001b[1;32m     25\u001b[0m   \u001b[0;32mfor\u001b[0m \u001b[0mi\u001b[0m\u001b[0;34m,\u001b[0m \u001b[0mline\u001b[0m \u001b[0;32min\u001b[0m \u001b[0menumerate\u001b[0m\u001b[0;34m(\u001b[0m\u001b[0mall_readme\u001b[0m\u001b[0;34m[\u001b[0m\u001b[0;36m0\u001b[0m\u001b[0;34m:\u001b[0m\u001b[0;36m6\u001b[0m\u001b[0;34m]\u001b[0m\u001b[0;34m)\u001b[0m\u001b[0;34m:\u001b[0m\u001b[0;34m\u001b[0m\u001b[0;34m\u001b[0m\u001b[0m\n",
            "\u001b[0;31mFileNotFoundError\u001b[0m: [Errno 2] No such file or directory: 'dataset/readme.txt'"
          ]
        }
      ]
    },
    {
      "cell_type": "code",
      "source": [],
      "metadata": {
        "id": "wZg8F72Job42"
      },
      "execution_count": null,
      "outputs": []
    }
  ]
}